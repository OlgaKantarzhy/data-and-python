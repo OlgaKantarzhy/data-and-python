{
  "nbformat": 4,
  "nbformat_minor": 0,
  "metadata": {
    "colab": {
      "provenance": [],
      "include_colab_link": true
    },
    "kernelspec": {
      "name": "python3",
      "display_name": "Python 3"
    },
    "language_info": {
      "name": "python"
    }
  },
  "cells": [
    {
      "cell_type": "markdown",
      "metadata": {
        "id": "view-in-github",
        "colab_type": "text"
      },
      "source": [
        "<a href=\"https://colab.research.google.com/github/OlgaKantarzhy/data-and-python/blob/main/Correlation_and_visualisation.ipynb\" target=\"_parent\"><img src=\"https://colab.research.google.com/assets/colab-badge.svg\" alt=\"Open In Colab\"/></a>"
      ]
    },
    {
      "cell_type": "markdown",
      "metadata": {
        "id": "rM0pH87Y4dOV"
      },
      "source": [
        "# Describing the data relatively and visually\n",
        "---\n",
        "\n",
        "This worksheet introduces two new libraries:\n",
        "\n",
        "**matplotlib**\n",
        "\n",
        "A library of functions for plotting static, animated and interactive visualisations of data sets.  For ease, pandas use matplotlib for plotting a range of charts.\n",
        "\n",
        "**scipy**\n",
        "\n",
        "A library of functions for interpolating, optimising, linear regression, etc  \n",
        "\n",
        "---\n",
        "\n",
        "A dataset will be read into a dataframe, cleaned, wrangled and so prepared for summarising and the telling of stories through visualisations and summaries.\n",
        "\n",
        "So far we have covered statistical measures over an individual series.  Linear regression reports correlation between the values in two series.\n",
        "\n",
        "To get the results of a linear regression:  \n",
        "*  import the `linregress` function from the `scipy.stats` package\n",
        "*  run the `linregress` function with the two axes assigning the result to a variable (e.g. `regression`)\n",
        "\n",
        "The result of the linregress function is a set of variables:  \n",
        "*  `slope`, `intercept` - the gradient and y-intercept of the regression line (the line of best fit between the two series) are in `regression.slope` and `regression.intercept`\n",
        "*  `rvalue` - the correlation coefficient - this indicates how closely the line drawn from the linear regression data fits the actual data, the closer to 1 the better the fit\n",
        "*  `pvalue` - the probability of error if the regression line is extended to predict\n",
        "*  the standard error is in `regression.stderr` and is the average distance of each data point from the lineof best fit\n",
        "\n",
        "\n",
        "Further information [here](https://docs.scipy.org/doc/scipy/reference/generated/scipy.stats.linregress.html)\n"
      ]
    },
    {
      "cell_type": "markdown",
      "metadata": {
        "id": "A60PQ510HHMQ"
      },
      "source": [
        "### Exercise 1 - is age closely related to income?\n",
        "---\n",
        "\n",
        "Use linear regression to compare the columns 'Age' and 'Income' in the data set 'Income-Data' at this url:  \n",
        "https://github.com/futureCodersSE/working-with-data/blob/main/Data%20sets/Income-Data.xlsx?raw=true  \n",
        "\n",
        "To do this:\n",
        "*  import the pandas library  \n",
        "\n",
        "\n",
        "*  import the **linregress** function from the library **scipy.stats**  (`from scipy.stats import linregress`)  \n",
        "\n",
        "\n",
        "*  open the Excel file at the url above, using the sheet_name '`county-level`', reading the data into a dataframe called **county_level_df**  \n",
        "\n",
        "\n",
        "*  create a variable called **x** and assign the '`Age`' column of the `county_level_df` dataframe   \n",
        "\n",
        "\n",
        "*  create a variable called **y** and assign the '`Income`' column of the `county_level_df` dataframe   \n",
        "\n",
        "\n",
        "*  create a variable called **regression** and assign the result of running the linregress function with `x`, `y` as its parameters ( `linregress(x,y)` )   \n",
        "\n",
        "\n",
        "*  display the regression  \n",
        "(*Expected output:  LinregressResult(slope=-0.31433084434233205, intercept=72.78388856978748, rvalue=-0.14787411576068246, pvalue=0.5581637648902298, stderr=0.5255739814332189*)  \n",
        "\n",
        "\n",
        "*  display the slope (`regression.slope`)  \n",
        "(*Expected output: -0.31433084434233205 - this indicates that the line plotting Age against Income slopes downward implying that income reduces with age*)  \n",
        "\n",
        "\n",
        "*  display the intercept (`regression.intercept`)  \n",
        "(*Expected output: 72.78388856978748 - this indicates that income level starts at 72.78388856978748 and reduces from there by age*)    \n",
        "\n",
        "\n",
        "*  display the rvalue (which indicates how closely income follows age and whether it goes up as age goes up or goes down as age goes up"
      ]
    },
    {
      "cell_type": "code",
      "metadata": {
        "id": "B7-yqi8n4Z3s",
        "colab": {
          "base_uri": "https://localhost:8080/"
        },
        "outputId": "1e3371d9-fab1-4fdf-f902-fff32c3089aa"
      },
      "source": [
        "import pandas as pd\n",
        "from scipy.stats import linregress\n",
        "url = \"https://github.com/futureCodersSE/working-with-data/blob/main/Data%20sets/Income-Data.xlsx?raw=true\"\n",
        "county_level_df = pd.read_excel(url, sheet_name = \"county-level\")\n",
        "county_level_df.info()\n"
      ],
      "execution_count": 78,
      "outputs": [
        {
          "output_type": "stream",
          "name": "stdout",
          "text": [
            "<class 'pandas.core.frame.DataFrame'>\n",
            "RangeIndex: 18 entries, 0 to 17\n",
            "Data columns (total 5 columns):\n",
            " #   Column      Non-Null Count  Dtype \n",
            "---  ------      --------------  ----- \n",
            " 0   State       18 non-null     object\n",
            " 1   County      18 non-null     int64 \n",
            " 2   Population  18 non-null     int64 \n",
            " 3   Age         18 non-null     int64 \n",
            " 4   Income      18 non-null     int64 \n",
            "dtypes: int64(4), object(1)\n",
            "memory usage: 848.0+ bytes\n"
          ]
        }
      ]
    },
    {
      "cell_type": "code",
      "source": [
        "x = county_level_df[\"Age\"]\n",
        "y = county_level_df[\"Income\"]\n",
        "regression = linregress(x,y)\n",
        "regression"
      ],
      "metadata": {
        "colab": {
          "base_uri": "https://localhost:8080/"
        },
        "id": "ZduoXN9xkrRE",
        "outputId": "600740f0-0dde-496e-80a2-3a73a317e81f"
      },
      "execution_count": null,
      "outputs": [
        {
          "output_type": "execute_result",
          "data": {
            "text/plain": [
              "LinregressResult(slope=-0.31433084434233205, intercept=72.78388856978748, rvalue=-0.14787411576068246, pvalue=0.5581637648902298, stderr=0.5255739814332189, intercept_stderr=16.08233482195521)"
            ]
          },
          "metadata": {},
          "execution_count": 6
        }
      ]
    },
    {
      "cell_type": "code",
      "source": [
        "regression.slope"
      ],
      "metadata": {
        "colab": {
          "base_uri": "https://localhost:8080/"
        },
        "id": "zF1wZH6hlLLu",
        "outputId": "8a091227-05b6-4523-b483-d25cf64a6a90"
      },
      "execution_count": null,
      "outputs": [
        {
          "output_type": "execute_result",
          "data": {
            "text/plain": [
              "-0.31433084434233205"
            ]
          },
          "metadata": {},
          "execution_count": 8
        }
      ]
    },
    {
      "cell_type": "code",
      "source": [
        "regression.intercept"
      ],
      "metadata": {
        "colab": {
          "base_uri": "https://localhost:8080/"
        },
        "id": "KV8JKAJqlSZ8",
        "outputId": "b0c037d7-4499-4d04-f53b-9d89903e3402"
      },
      "execution_count": null,
      "outputs": [
        {
          "output_type": "execute_result",
          "data": {
            "text/plain": [
              "72.78388856978748"
            ]
          },
          "metadata": {},
          "execution_count": 9
        }
      ]
    },
    {
      "cell_type": "code",
      "source": [
        "regression.rvalue"
      ],
      "metadata": {
        "colab": {
          "base_uri": "https://localhost:8080/"
        },
        "id": "aQJQP1GblWi0",
        "outputId": "e44825a6-ed35-4105-9d32-f51628340358"
      },
      "execution_count": null,
      "outputs": [
        {
          "output_type": "execute_result",
          "data": {
            "text/plain": [
              "-0.14787411576068246"
            ]
          },
          "metadata": {},
          "execution_count": 10
        }
      ]
    },
    {
      "cell_type": "markdown",
      "metadata": {
        "id": "AXiD7hVyQEe9"
      },
      "source": [
        "### Exercise 2 - Could Population predict Income?  \n",
        "---\n",
        "\n",
        "Repeat the steps in exercise 1 to see if there is a clearer correlation between Population and Income.  \n",
        "\n",
        "Add a statement in the text cell to describe your findings.\n",
        "\n",
        "**Test output**:   \n",
        "0.013558605755058871\n"
      ]
    },
    {
      "cell_type": "code",
      "metadata": {
        "id": "S349ZIiIQSvy",
        "colab": {
          "base_uri": "https://localhost:8080/"
        },
        "outputId": "d0a6719a-c0f3-4e7b-e398-e1c039501089"
      },
      "source": [
        "z = county_level_df[\"Population\"]\n",
        "regression2 = linregress(z,y)\n",
        "regression2.rvalue"
      ],
      "execution_count": null,
      "outputs": [
        {
          "output_type": "execute_result",
          "data": {
            "text/plain": [
              "0.11644142628402862"
            ]
          },
          "metadata": {},
          "execution_count": 17
        }
      ]
    },
    {
      "cell_type": "markdown",
      "metadata": {
        "id": "KHLucNuAXiyJ"
      },
      "source": [
        "The correlation coefficient (rvalue) for Population and Income equals to 0.116"
      ]
    },
    {
      "cell_type": "markdown",
      "metadata": {
        "id": "zZXvmsL2SbA-"
      },
      "source": [
        "### Exercise 3 - Does Stress predict Wellbeing?\n",
        "---\n",
        "\n",
        "Repeat the steps in Exercises 1 & 2 to see if you can find a statistically significant result.\n",
        "\n",
        "Add a statement in the text cell to describe your findings\n",
        "\n",
        "* Read the dataset: \"https://github.com/lilaceri/Working-with-data-/blob/b157a2feceb7709cf82426932385706d65446270/Data%20Sets%20for%20code%20divisio/Positive_Psychology_2017.csv?raw=true\"\n",
        "\n",
        "* perform linear regression  \n",
        "* look at r_squared and pvalue to get an idea of how predictive and significant these variables are\n",
        "\n",
        "* save slope and intercepts in variables for later\n",
        "\n",
        "Challenge:  \n",
        "Write a function that checks the significance of a regression and displays a message indicating the result.\n",
        "\n",
        "**Test output**:  \n",
        "LinregressResult(slope=-0.6279050248852254, intercept=37.713488379900454, rvalue=-0.6713959740851134, pvalue=6.084540561441803e-07, stderr=0.10694652962765022)  \n",
        "r sqr = 0.4507725540176983  \n",
        "model is significant, p < .05:  6.084540561441803e-07  "
      ]
    },
    {
      "cell_type": "code",
      "metadata": {
        "id": "pbZf_2dITkqX",
        "colab": {
          "base_uri": "https://localhost:8080/"
        },
        "outputId": "65a07eef-7be6-484f-d856-dbd634d5b533"
      },
      "source": [
        "df = pd.read_csv(\"https://github.com/lilaceri/Working-with-data-/blob/b157a2feceb7709cf82426932385706d65446270/Data%20Sets%20for%20code%20divisio/Positive_Psychology_2017.csv?raw=true\")\n",
        "stress = df[\"Stress\"]\n",
        "wellbeing = df[\"Wellbeing\"]\n",
        "regression_s_w = linregress(stress,wellbeing)\n",
        "regression_s_w"
      ],
      "execution_count": null,
      "outputs": [
        {
          "output_type": "execute_result",
          "data": {
            "text/plain": [
              "LinregressResult(slope=-0.6279050248852254, intercept=37.713488379900454, rvalue=-0.6713959740851134, pvalue=6.084540561441803e-07, stderr=0.10694652962765022, intercept_stderr=2.4636244230057622)"
            ]
          },
          "metadata": {},
          "execution_count": 20
        }
      ]
    },
    {
      "cell_type": "code",
      "source": [
        "print(\"R sqr equals to\",regression_s_w.rvalue**2)"
      ],
      "metadata": {
        "colab": {
          "base_uri": "https://localhost:8080/"
        },
        "id": "6nkoVUVbouNs",
        "outputId": "535bd483-6be2-49d6-8890-6dc4e3d78d84"
      },
      "execution_count": null,
      "outputs": [
        {
          "output_type": "stream",
          "name": "stdout",
          "text": [
            "R sqr equals to 0.4507725540176983\n"
          ]
        }
      ]
    },
    {
      "cell_type": "code",
      "source": [
        "print(\"Pvalue equals to\",regression_s_w.pvalue,\"A p-value less than 0.05 is typically considered to be statistically significant\")"
      ],
      "metadata": {
        "colab": {
          "base_uri": "https://localhost:8080/"
        },
        "id": "hepEQczvpI1c",
        "outputId": "515c4b9a-3592-4980-ba9a-8e11451575b6"
      },
      "execution_count": null,
      "outputs": [
        {
          "output_type": "stream",
          "name": "stdout",
          "text": [
            "Pvalue equals to 6.084540561441803e-07 A p-value less than 0.05 is typically considered to be statistically significant\n"
          ]
        }
      ]
    },
    {
      "cell_type": "code",
      "source": [
        "slope = regression_s_w.slope\n",
        "intercepts = regression_s_w.intercept_stderr"
      ],
      "metadata": {
        "id": "qgMPn3-_qe0U"
      },
      "execution_count": null,
      "outputs": []
    },
    {
      "cell_type": "code",
      "source": [
        "def check_pvalue(x,y):\n",
        "  regression = linregress(x,y)\n",
        "  if regression.pvalue < 0.5:\n",
        "    print(\"Model is considered to be statistically significant\")\n",
        "  else:\n",
        "    print(\"Model is not considered to be statistically significant\")\n",
        "\n",
        "check_pvalue(stress,wellbeing)"
      ],
      "metadata": {
        "colab": {
          "base_uri": "https://localhost:8080/"
        },
        "id": "TAegN14AreD0",
        "outputId": "f57a6281-e760-4313-b3fc-506941060cc6"
      },
      "execution_count": null,
      "outputs": [
        {
          "output_type": "stream",
          "name": "stdout",
          "text": [
            "Model is considered to be statistically significant\n"
          ]
        }
      ]
    },
    {
      "cell_type": "markdown",
      "metadata": {
        "id": "ovNHeS53QqEj"
      },
      "source": [
        "# Visualising the data\n",
        "---\n",
        "\n",
        "There are a good number of libraries available containing functions for visualising data with bar charts, pie charts, line plots, box plots, scatter plots and, in some libraries, with more image based visualisations.\n",
        "\n",
        "To keep it relatively simple, we will use matplotlib, a widely used library with a wide range of visualisation functions for data sets and mathematical equations.  It has the main functions we will use in this course:\n",
        "*  bar charts\n",
        "*  pie charts\n",
        "*  line plots\n",
        "*  box plots\n",
        "*  scatter plots\n",
        "*  histogram\n",
        "\n",
        "Each requires these things:  \n",
        "1. Select the data columns to be plotted\n",
        "2. Prepare the data (remove null values, clean formats, etc)  \n",
        "3. Run the function for the required plot\n",
        "\n",
        "Once you have the hang of these, you can start to look at labelling, colouring, etc.\n",
        "\n",
        "In order to begin creating visualisations, you need to:  \n",
        "* import **matplotlib** as **plt**\n",
        "\n",
        "Test output for Exercises 4 to 10 is in this [image](https://drive.google.com/file/d/1LYxLJyur_zgzvJcv_C1WGm21nf07ddY6/view?usp=sharing)"
      ]
    },
    {
      "cell_type": "markdown",
      "metadata": {
        "id": "lcPED_VXSY5U"
      },
      "source": [
        "#  Bar charts and Line Plots\n",
        "---\n",
        "\n",
        "For these exercises, use the Excel data file:\n",
        "\n",
        "'public-use-talent-migration' looking at sheet_name 'Country Migration'  \n",
        "https://github.com/futureCodersSE/working-with-data/blob/main/Data%20sets/public_use-talent-migration.xlsx?raw=true\n",
        "\n",
        "**Example**:  \n",
        "\n",
        "Watch the video [here](https://drive.google.com/file/d/1eNOy7fhkB2CSfVdb66kqB66qXfoPfOpd/view?usp=sharing) - demonstration of creating a bar chart using the `matplotlib` library `pyplot`.  Then have a go at creating it yourself."
      ]
    },
    {
      "cell_type": "code",
      "metadata": {
        "id": "4YZeIq9dQoVD",
        "colab": {
          "base_uri": "https://localhost:8080/",
          "height": 313
        },
        "outputId": "a355e10a-d913-4ce2-a55f-12e73f966b83"
      },
      "source": [
        "import pandas as pd\n",
        "import matplotlib.pyplot as plt\n",
        "\n",
        "url = \"https://github.com/futureCodersSE/working-with-data/blob/main/Data%20sets/public_use-talent-migration.xlsx?raw=true\"\n",
        "country_migration_df = pd.read_excel(url, sheet_name = \"Country Migration\")\n",
        "country_migration_df.head()"
      ],
      "execution_count": 17,
      "outputs": [
        {
          "output_type": "execute_result",
          "data": {
            "text/plain": [
              "  base_country_code     base_country_name   base_lat  base_long  \\\n",
              "0                ae  United Arab Emirates  23.424076  53.847818   \n",
              "1                ae  United Arab Emirates  23.424076  53.847818   \n",
              "2                ae  United Arab Emirates  23.424076  53.847818   \n",
              "3                ae  United Arab Emirates  23.424076  53.847818   \n",
              "4                ae  United Arab Emirates  23.424076  53.847818   \n",
              "\n",
              "  base_country_wb_income      base_country_wb_region target_country_code  \\\n",
              "0            High Income  Middle East & North Africa                  af   \n",
              "1            High Income  Middle East & North Africa                  dz   \n",
              "2            High Income  Middle East & North Africa                  ao   \n",
              "3            High Income  Middle East & North Africa                  ar   \n",
              "4            High Income  Middle East & North Africa                  am   \n",
              "\n",
              "  target_country_name  target_lat  target_long target_country_wb_income  \\\n",
              "0         Afghanistan   33.939110    67.709953               Low Income   \n",
              "1             Algeria   28.033886     1.659626      Upper Middle Income   \n",
              "2              Angola  -11.202692    17.873887      Lower Middle Income   \n",
              "3           Argentina  -38.416097   -63.616672              High Income   \n",
              "4             Armenia   40.069099    45.038189      Upper Middle Income   \n",
              "\n",
              "     target_country_wb_region  net_per_10K_2015  net_per_10K_2016  \\\n",
              "0                  South Asia              0.19              0.16   \n",
              "1  Middle East & North Africa              0.19              0.25   \n",
              "2          Sub-Saharan Africa             -0.01              0.04   \n",
              "3   Latin America & Caribbean              0.16              0.18   \n",
              "4       Europe & Central Asia              0.10              0.05   \n",
              "\n",
              "   net_per_10K_2017  net_per_10K_2018  net_per_10K_2019  \n",
              "0              0.11             -0.05             -0.02  \n",
              "1              0.57              0.55              0.78  \n",
              "2              0.11             -0.02             -0.06  \n",
              "3              0.04              0.01              0.23  \n",
              "4              0.03             -0.01              0.02  "
            ],
            "text/html": [
              "\n",
              "  <div id=\"df-a2fe289d-330b-43e6-b47e-db40a0fea368\" class=\"colab-df-container\">\n",
              "    <div>\n",
              "<style scoped>\n",
              "    .dataframe tbody tr th:only-of-type {\n",
              "        vertical-align: middle;\n",
              "    }\n",
              "\n",
              "    .dataframe tbody tr th {\n",
              "        vertical-align: top;\n",
              "    }\n",
              "\n",
              "    .dataframe thead th {\n",
              "        text-align: right;\n",
              "    }\n",
              "</style>\n",
              "<table border=\"1\" class=\"dataframe\">\n",
              "  <thead>\n",
              "    <tr style=\"text-align: right;\">\n",
              "      <th></th>\n",
              "      <th>base_country_code</th>\n",
              "      <th>base_country_name</th>\n",
              "      <th>base_lat</th>\n",
              "      <th>base_long</th>\n",
              "      <th>base_country_wb_income</th>\n",
              "      <th>base_country_wb_region</th>\n",
              "      <th>target_country_code</th>\n",
              "      <th>target_country_name</th>\n",
              "      <th>target_lat</th>\n",
              "      <th>target_long</th>\n",
              "      <th>target_country_wb_income</th>\n",
              "      <th>target_country_wb_region</th>\n",
              "      <th>net_per_10K_2015</th>\n",
              "      <th>net_per_10K_2016</th>\n",
              "      <th>net_per_10K_2017</th>\n",
              "      <th>net_per_10K_2018</th>\n",
              "      <th>net_per_10K_2019</th>\n",
              "    </tr>\n",
              "  </thead>\n",
              "  <tbody>\n",
              "    <tr>\n",
              "      <th>0</th>\n",
              "      <td>ae</td>\n",
              "      <td>United Arab Emirates</td>\n",
              "      <td>23.424076</td>\n",
              "      <td>53.847818</td>\n",
              "      <td>High Income</td>\n",
              "      <td>Middle East &amp; North Africa</td>\n",
              "      <td>af</td>\n",
              "      <td>Afghanistan</td>\n",
              "      <td>33.939110</td>\n",
              "      <td>67.709953</td>\n",
              "      <td>Low Income</td>\n",
              "      <td>South Asia</td>\n",
              "      <td>0.19</td>\n",
              "      <td>0.16</td>\n",
              "      <td>0.11</td>\n",
              "      <td>-0.05</td>\n",
              "      <td>-0.02</td>\n",
              "    </tr>\n",
              "    <tr>\n",
              "      <th>1</th>\n",
              "      <td>ae</td>\n",
              "      <td>United Arab Emirates</td>\n",
              "      <td>23.424076</td>\n",
              "      <td>53.847818</td>\n",
              "      <td>High Income</td>\n",
              "      <td>Middle East &amp; North Africa</td>\n",
              "      <td>dz</td>\n",
              "      <td>Algeria</td>\n",
              "      <td>28.033886</td>\n",
              "      <td>1.659626</td>\n",
              "      <td>Upper Middle Income</td>\n",
              "      <td>Middle East &amp; North Africa</td>\n",
              "      <td>0.19</td>\n",
              "      <td>0.25</td>\n",
              "      <td>0.57</td>\n",
              "      <td>0.55</td>\n",
              "      <td>0.78</td>\n",
              "    </tr>\n",
              "    <tr>\n",
              "      <th>2</th>\n",
              "      <td>ae</td>\n",
              "      <td>United Arab Emirates</td>\n",
              "      <td>23.424076</td>\n",
              "      <td>53.847818</td>\n",
              "      <td>High Income</td>\n",
              "      <td>Middle East &amp; North Africa</td>\n",
              "      <td>ao</td>\n",
              "      <td>Angola</td>\n",
              "      <td>-11.202692</td>\n",
              "      <td>17.873887</td>\n",
              "      <td>Lower Middle Income</td>\n",
              "      <td>Sub-Saharan Africa</td>\n",
              "      <td>-0.01</td>\n",
              "      <td>0.04</td>\n",
              "      <td>0.11</td>\n",
              "      <td>-0.02</td>\n",
              "      <td>-0.06</td>\n",
              "    </tr>\n",
              "    <tr>\n",
              "      <th>3</th>\n",
              "      <td>ae</td>\n",
              "      <td>United Arab Emirates</td>\n",
              "      <td>23.424076</td>\n",
              "      <td>53.847818</td>\n",
              "      <td>High Income</td>\n",
              "      <td>Middle East &amp; North Africa</td>\n",
              "      <td>ar</td>\n",
              "      <td>Argentina</td>\n",
              "      <td>-38.416097</td>\n",
              "      <td>-63.616672</td>\n",
              "      <td>High Income</td>\n",
              "      <td>Latin America &amp; Caribbean</td>\n",
              "      <td>0.16</td>\n",
              "      <td>0.18</td>\n",
              "      <td>0.04</td>\n",
              "      <td>0.01</td>\n",
              "      <td>0.23</td>\n",
              "    </tr>\n",
              "    <tr>\n",
              "      <th>4</th>\n",
              "      <td>ae</td>\n",
              "      <td>United Arab Emirates</td>\n",
              "      <td>23.424076</td>\n",
              "      <td>53.847818</td>\n",
              "      <td>High Income</td>\n",
              "      <td>Middle East &amp; North Africa</td>\n",
              "      <td>am</td>\n",
              "      <td>Armenia</td>\n",
              "      <td>40.069099</td>\n",
              "      <td>45.038189</td>\n",
              "      <td>Upper Middle Income</td>\n",
              "      <td>Europe &amp; Central Asia</td>\n",
              "      <td>0.10</td>\n",
              "      <td>0.05</td>\n",
              "      <td>0.03</td>\n",
              "      <td>-0.01</td>\n",
              "      <td>0.02</td>\n",
              "    </tr>\n",
              "  </tbody>\n",
              "</table>\n",
              "</div>\n",
              "    <div class=\"colab-df-buttons\">\n",
              "\n",
              "  <div class=\"colab-df-container\">\n",
              "    <button class=\"colab-df-convert\" onclick=\"convertToInteractive('df-a2fe289d-330b-43e6-b47e-db40a0fea368')\"\n",
              "            title=\"Convert this dataframe to an interactive table.\"\n",
              "            style=\"display:none;\">\n",
              "\n",
              "  <svg xmlns=\"http://www.w3.org/2000/svg\" height=\"24px\" viewBox=\"0 -960 960 960\">\n",
              "    <path d=\"M120-120v-720h720v720H120Zm60-500h600v-160H180v160Zm220 220h160v-160H400v160Zm0 220h160v-160H400v160ZM180-400h160v-160H180v160Zm440 0h160v-160H620v160ZM180-180h160v-160H180v160Zm440 0h160v-160H620v160Z\"/>\n",
              "  </svg>\n",
              "    </button>\n",
              "\n",
              "  <style>\n",
              "    .colab-df-container {\n",
              "      display:flex;\n",
              "      gap: 12px;\n",
              "    }\n",
              "\n",
              "    .colab-df-convert {\n",
              "      background-color: #E8F0FE;\n",
              "      border: none;\n",
              "      border-radius: 50%;\n",
              "      cursor: pointer;\n",
              "      display: none;\n",
              "      fill: #1967D2;\n",
              "      height: 32px;\n",
              "      padding: 0 0 0 0;\n",
              "      width: 32px;\n",
              "    }\n",
              "\n",
              "    .colab-df-convert:hover {\n",
              "      background-color: #E2EBFA;\n",
              "      box-shadow: 0px 1px 2px rgba(60, 64, 67, 0.3), 0px 1px 3px 1px rgba(60, 64, 67, 0.15);\n",
              "      fill: #174EA6;\n",
              "    }\n",
              "\n",
              "    .colab-df-buttons div {\n",
              "      margin-bottom: 4px;\n",
              "    }\n",
              "\n",
              "    [theme=dark] .colab-df-convert {\n",
              "      background-color: #3B4455;\n",
              "      fill: #D2E3FC;\n",
              "    }\n",
              "\n",
              "    [theme=dark] .colab-df-convert:hover {\n",
              "      background-color: #434B5C;\n",
              "      box-shadow: 0px 1px 3px 1px rgba(0, 0, 0, 0.15);\n",
              "      filter: drop-shadow(0px 1px 2px rgba(0, 0, 0, 0.3));\n",
              "      fill: #FFFFFF;\n",
              "    }\n",
              "  </style>\n",
              "\n",
              "    <script>\n",
              "      const buttonEl =\n",
              "        document.querySelector('#df-a2fe289d-330b-43e6-b47e-db40a0fea368 button.colab-df-convert');\n",
              "      buttonEl.style.display =\n",
              "        google.colab.kernel.accessAllowed ? 'block' : 'none';\n",
              "\n",
              "      async function convertToInteractive(key) {\n",
              "        const element = document.querySelector('#df-a2fe289d-330b-43e6-b47e-db40a0fea368');\n",
              "        const dataTable =\n",
              "          await google.colab.kernel.invokeFunction('convertToInteractive',\n",
              "                                                    [key], {});\n",
              "        if (!dataTable) return;\n",
              "\n",
              "        const docLinkHtml = 'Like what you see? Visit the ' +\n",
              "          '<a target=\"_blank\" href=https://colab.research.google.com/notebooks/data_table.ipynb>data table notebook</a>'\n",
              "          + ' to learn more about interactive tables.';\n",
              "        element.innerHTML = '';\n",
              "        dataTable['output_type'] = 'display_data';\n",
              "        await google.colab.output.renderOutput(dataTable, element);\n",
              "        const docLink = document.createElement('div');\n",
              "        docLink.innerHTML = docLinkHtml;\n",
              "        element.appendChild(docLink);\n",
              "      }\n",
              "    </script>\n",
              "  </div>\n",
              "\n",
              "\n",
              "<div id=\"df-8ce2b983-25df-4d5b-bfe2-188d2e84d7ee\">\n",
              "  <button class=\"colab-df-quickchart\" onclick=\"quickchart('df-8ce2b983-25df-4d5b-bfe2-188d2e84d7ee')\"\n",
              "            title=\"Suggest charts.\"\n",
              "            style=\"display:none;\">\n",
              "\n",
              "<svg xmlns=\"http://www.w3.org/2000/svg\" height=\"24px\"viewBox=\"0 0 24 24\"\n",
              "     width=\"24px\">\n",
              "    <g>\n",
              "        <path d=\"M19 3H5c-1.1 0-2 .9-2 2v14c0 1.1.9 2 2 2h14c1.1 0 2-.9 2-2V5c0-1.1-.9-2-2-2zM9 17H7v-7h2v7zm4 0h-2V7h2v10zm4 0h-2v-4h2v4z\"/>\n",
              "    </g>\n",
              "</svg>\n",
              "  </button>\n",
              "\n",
              "<style>\n",
              "  .colab-df-quickchart {\n",
              "      --bg-color: #E8F0FE;\n",
              "      --fill-color: #1967D2;\n",
              "      --hover-bg-color: #E2EBFA;\n",
              "      --hover-fill-color: #174EA6;\n",
              "      --disabled-fill-color: #AAA;\n",
              "      --disabled-bg-color: #DDD;\n",
              "  }\n",
              "\n",
              "  [theme=dark] .colab-df-quickchart {\n",
              "      --bg-color: #3B4455;\n",
              "      --fill-color: #D2E3FC;\n",
              "      --hover-bg-color: #434B5C;\n",
              "      --hover-fill-color: #FFFFFF;\n",
              "      --disabled-bg-color: #3B4455;\n",
              "      --disabled-fill-color: #666;\n",
              "  }\n",
              "\n",
              "  .colab-df-quickchart {\n",
              "    background-color: var(--bg-color);\n",
              "    border: none;\n",
              "    border-radius: 50%;\n",
              "    cursor: pointer;\n",
              "    display: none;\n",
              "    fill: var(--fill-color);\n",
              "    height: 32px;\n",
              "    padding: 0;\n",
              "    width: 32px;\n",
              "  }\n",
              "\n",
              "  .colab-df-quickchart:hover {\n",
              "    background-color: var(--hover-bg-color);\n",
              "    box-shadow: 0 1px 2px rgba(60, 64, 67, 0.3), 0 1px 3px 1px rgba(60, 64, 67, 0.15);\n",
              "    fill: var(--button-hover-fill-color);\n",
              "  }\n",
              "\n",
              "  .colab-df-quickchart-complete:disabled,\n",
              "  .colab-df-quickchart-complete:disabled:hover {\n",
              "    background-color: var(--disabled-bg-color);\n",
              "    fill: var(--disabled-fill-color);\n",
              "    box-shadow: none;\n",
              "  }\n",
              "\n",
              "  .colab-df-spinner {\n",
              "    border: 2px solid var(--fill-color);\n",
              "    border-color: transparent;\n",
              "    border-bottom-color: var(--fill-color);\n",
              "    animation:\n",
              "      spin 1s steps(1) infinite;\n",
              "  }\n",
              "\n",
              "  @keyframes spin {\n",
              "    0% {\n",
              "      border-color: transparent;\n",
              "      border-bottom-color: var(--fill-color);\n",
              "      border-left-color: var(--fill-color);\n",
              "    }\n",
              "    20% {\n",
              "      border-color: transparent;\n",
              "      border-left-color: var(--fill-color);\n",
              "      border-top-color: var(--fill-color);\n",
              "    }\n",
              "    30% {\n",
              "      border-color: transparent;\n",
              "      border-left-color: var(--fill-color);\n",
              "      border-top-color: var(--fill-color);\n",
              "      border-right-color: var(--fill-color);\n",
              "    }\n",
              "    40% {\n",
              "      border-color: transparent;\n",
              "      border-right-color: var(--fill-color);\n",
              "      border-top-color: var(--fill-color);\n",
              "    }\n",
              "    60% {\n",
              "      border-color: transparent;\n",
              "      border-right-color: var(--fill-color);\n",
              "    }\n",
              "    80% {\n",
              "      border-color: transparent;\n",
              "      border-right-color: var(--fill-color);\n",
              "      border-bottom-color: var(--fill-color);\n",
              "    }\n",
              "    90% {\n",
              "      border-color: transparent;\n",
              "      border-bottom-color: var(--fill-color);\n",
              "    }\n",
              "  }\n",
              "</style>\n",
              "\n",
              "  <script>\n",
              "    async function quickchart(key) {\n",
              "      const quickchartButtonEl =\n",
              "        document.querySelector('#' + key + ' button');\n",
              "      quickchartButtonEl.disabled = true;  // To prevent multiple clicks.\n",
              "      quickchartButtonEl.classList.add('colab-df-spinner');\n",
              "      try {\n",
              "        const charts = await google.colab.kernel.invokeFunction(\n",
              "            'suggestCharts', [key], {});\n",
              "      } catch (error) {\n",
              "        console.error('Error during call to suggestCharts:', error);\n",
              "      }\n",
              "      quickchartButtonEl.classList.remove('colab-df-spinner');\n",
              "      quickchartButtonEl.classList.add('colab-df-quickchart-complete');\n",
              "    }\n",
              "    (() => {\n",
              "      let quickchartButtonEl =\n",
              "        document.querySelector('#df-8ce2b983-25df-4d5b-bfe2-188d2e84d7ee button');\n",
              "      quickchartButtonEl.style.display =\n",
              "        google.colab.kernel.accessAllowed ? 'block' : 'none';\n",
              "    })();\n",
              "  </script>\n",
              "</div>\n",
              "    </div>\n",
              "  </div>\n"
            ]
          },
          "metadata": {},
          "execution_count": 17
        }
      ]
    },
    {
      "cell_type": "markdown",
      "metadata": {
        "id": "CBIUWI1WyvLx"
      },
      "source": [
        "### Exercise 4 - Line plot of net migration\n",
        "---\n",
        "\n",
        "Creating a line plot of mean net migration over the years 2015 to 2019\n",
        "\n",
        "* create a new dataframe containing only the five columns holding net migration\n",
        "* create a new data variable to hold the means of the five columns\n",
        "* create a labels variable to hold the keys (column headings)\n",
        "* use plt.plot(x, y) to plot your line chart\n",
        "\n",
        "***Presentation tips:***   \n",
        "Plot the chart, then add formatting, then show the plot   \n",
        "\n",
        "Rotate the x-axis labels in the plot:  \n",
        "`plt.xticks(rotation=45)`  \n",
        "\n",
        "Show the grid:  \n",
        "`plt.grid()`  \n",
        "\n",
        "When all formatting has been done, show the plot:   \n",
        "`plt.show()`"
      ]
    },
    {
      "cell_type": "code",
      "metadata": {
        "id": "JLOAv52Kx1ZZ",
        "colab": {
          "base_uri": "https://localhost:8080/",
          "height": 621
        },
        "outputId": "ba0407d0-203b-46dd-b155-f3adafc20eec"
      },
      "source": [
        "country_net_migration = country_migration_df[[\"net_per_10K_2015\",\"net_per_10K_2016\",\"net_per_10K_2017\",\"net_per_10K_2018\",\"net_per_10K_2019\"]]\n",
        "means = country_net_migration.mean()\n",
        "labels = country_net_migration.keys()\n",
        "\n",
        "\n",
        "plt.plot(labels, means)\n",
        "plt.xticks(rotation=45)\n",
        "plt.grid()\n",
        "plt.show()\n",
        "\n",
        "print(round(means,2))\n"
      ],
      "execution_count": 33,
      "outputs": [
        {
          "output_type": "display_data",
          "data": {
            "text/plain": [
              "<Figure size 640x480 with 1 Axes>"
            ],
            "image/png": "[encoded data removed]"
          },
          "metadata": {}
        },
        {
          "output_type": "stream",
          "name": "stdout",
          "text": [
            "net_per_10K_2015    0.46\n",
            "net_per_10K_2016    0.15\n",
            "net_per_10K_2017   -0.08\n",
            "net_per_10K_2018   -0.04\n",
            "net_per_10K_2019   -0.02\n",
            "dtype: float64\n"
          ]
        }
      ]
    },
    {
      "cell_type": "markdown",
      "metadata": {
        "id": "tCATnnTDVB0f"
      },
      "source": [
        "### Exercise 5 - Creating a Bar chart for yearly migration\n",
        "---\n",
        "Create a bar chart which shows the total net migration for the years 2015-2019  \n",
        "\n",
        "* split the migration columns into a new dataframe\n",
        "* create a data variable from the max() of the five columns\n",
        "* create a labels variable, this time just create a list of the 5 years ['2015','2016','2017','2018','2019']\n",
        "* plot the bar chart\n",
        "\n",
        "***Presentation tips***:\n",
        "* use plt.xlabel('Year') and plt.ylabel('Total net migration') to name your axis\n",
        "* display your bar graph with plt.show"
      ]
    },
    {
      "cell_type": "code",
      "metadata": {
        "id": "HFpx3cFOhbKo",
        "colab": {
          "base_uri": "https://localhost:8080/",
          "height": 449
        },
        "outputId": "4b827fe2-08dc-4662-a610-4547c6ff9302"
      },
      "source": [
        "max = country_net_migration.max()\n",
        "labels2 = ['2015','2016','2017','2018','2019']\n",
        "plt.bar(labels2, max)\n",
        "plt.xlabel('Year')\n",
        "plt.ylabel('Total net migration')\n",
        "plt.show()"
      ],
      "execution_count": 36,
      "outputs": [
        {
          "output_type": "display_data",
          "data": {
            "text/plain": [
              "<Figure size 640x480 with 1 Axes>"
            ],
            "image/png": "[encoded data removed]"
          },
          "metadata": {}
        }
      ]
    },
    {
      "cell_type": "markdown",
      "metadata": {
        "id": "h7XzURfOzZfm"
      },
      "source": [
        "### Exercise 6 - creating a bar graph using grouped data\n",
        "---\n",
        "\n",
        "Create a horizontal bar chart of 2019 mean immigration for each income level ('`target_country_wb_income`')\n",
        "\n",
        "* create a data variable which contains the means, grouped by '`target_country_wb_income`'\n",
        "* extract your labels (x) using the .keys() function\n",
        "* use the plt.barh(x, y) to create a horizontal bar graph\n",
        "* add labels to the axes ('Year', 'Net Migration')  \n",
        "* show the plot  \n",
        "\n",
        "Try using plt.bar(x,y) - can you see why horizontally is more appropriate?"
      ]
    },
    {
      "cell_type": "code",
      "metadata": {
        "id": "WW0np_MNmwou",
        "colab": {
          "base_uri": "https://localhost:8080/",
          "height": 504
        },
        "outputId": "8659db37-0087-43a5-f13a-5b8d52f50765"
      },
      "source": [
        "groups_income = country_migration_df.groupby([\"target_country_wb_income\"]).mean()\n",
        "data = groups_income[\"net_per_10K_2019\"]\n",
        "labels = data.keys()\n",
        "plt.barh(labels, data)\n",
        "plt.xlabel('Year')\n",
        "plt.ylabel('Net Migration')\n",
        "plt.show()"
      ],
      "execution_count": 47,
      "outputs": [
        {
          "output_type": "stream",
          "name": "stderr",
          "text": [
            "<ipython-input-47-ccc08cbbfa55>:1: FutureWarning: The default value of numeric_only in DataFrameGroupBy.mean is deprecated. In a future version, numeric_only will default to False. Either specify numeric_only or select only columns which should be valid for the function.\n",
            "  groups_income = country_migration_df.groupby([\"target_country_wb_income\"]).mean()\n"
          ]
        },
        {
          "output_type": "display_data",
          "data": {
            "text/plain": [
              "<Figure size 640x480 with 1 Axes>"
            ],
            "image/png": "[encoded data removed]"
          },
          "metadata": {}
        }
      ]
    },
    {
      "cell_type": "markdown",
      "metadata": {
        "id": "49JShRy_vWib"
      },
      "source": [
        "# Pie Charts, Box Plots, Scatter Plots and Histograms\n",
        "---\n",
        "\n",
        "For these exercises you will use the Psychology dataset: \"https://github.com/lilaceri/Working-with-data-/blob/b157a2feceb7709cf82426932385706d65446270/Data%20Sets%20for%20code%20divisio/Positive_Psychology_2017.csv?raw=true\"\n",
        "\n",
        "To get the data ready:\n",
        "\n",
        "* read csv file above and save into a new variable called `psych_data`"
      ]
    },
    {
      "cell_type": "code",
      "source": [
        "url2 = \"https://github.com/lilaceri/Working-with-data-/blob/b157a2feceb7709cf82426932385706d65446270/Data%20Sets%20for%20code%20divisio/Positive_Psychology_2017.csv?raw=true\"\n",
        "psych_data = pd.read_csv(url2)\n",
        "psych_data.head()"
      ],
      "metadata": {
        "colab": {
          "base_uri": "https://localhost:8080/",
          "height": 293
        },
        "id": "2W3YbH3CvwhZ",
        "outputId": "63d62393-db8a-4a9c-fe29-5eff702129ce"
      },
      "execution_count": 49,
      "outputs": [
        {
          "output_type": "execute_result",
          "data": {
            "text/plain": [
              "   Age               English firstlanguage     sex          origin  \\\n",
              "0   24  Your Second Language        Arabic  Female  Outside Europe   \n",
              "1   22  Your Second Language        Arabic  Female  Outside Europe   \n",
              "2   26  Your Second Language       Burmese  Female  Outside Europe   \n",
              "3   23  Your Second Language       Chinese    Male  Outside Europe   \n",
              "4   25  Your Second Language       Chinese  Female  Outside Europe   \n",
              "\n",
              "   Ukresidence  MAAS  Resilliance  Wellbeing  Stress  selfesteem  LoC  sleep  \\\n",
              "0          0.0  4.60           44         26      19          22   10     32   \n",
              "1          0.0  2.60           29         10      37           9   16     10   \n",
              "2          0.0  4.13           26         20      20          18   20     24   \n",
              "3          0.0  2.77           30         16      28          20   17     10   \n",
              "4          0.0  3.80           33         27      15          18   12     17   \n",
              "\n",
              "   Year  \n",
              "0  2017  \n",
              "1  2017  \n",
              "2  2017  \n",
              "3  2017  \n",
              "4  2017  "
            ],
            "text/html": [
              "\n",
              "  <div id=\"df-ef2e2049-0731-4016-8e30-11b49e179952\" class=\"colab-df-container\">\n",
              "    <div>\n",
              "<style scoped>\n",
              "    .dataframe tbody tr th:only-of-type {\n",
              "        vertical-align: middle;\n",
              "    }\n",
              "\n",
              "    .dataframe tbody tr th {\n",
              "        vertical-align: top;\n",
              "    }\n",
              "\n",
              "    .dataframe thead th {\n",
              "        text-align: right;\n",
              "    }\n",
              "</style>\n",
              "<table border=\"1\" class=\"dataframe\">\n",
              "  <thead>\n",
              "    <tr style=\"text-align: right;\">\n",
              "      <th></th>\n",
              "      <th>Age</th>\n",
              "      <th>English</th>\n",
              "      <th>firstlanguage</th>\n",
              "      <th>sex</th>\n",
              "      <th>origin</th>\n",
              "      <th>Ukresidence</th>\n",
              "      <th>MAAS</th>\n",
              "      <th>Resilliance</th>\n",
              "      <th>Wellbeing</th>\n",
              "      <th>Stress</th>\n",
              "      <th>selfesteem</th>\n",
              "      <th>LoC</th>\n",
              "      <th>sleep</th>\n",
              "      <th>Year</th>\n",
              "    </tr>\n",
              "  </thead>\n",
              "  <tbody>\n",
              "    <tr>\n",
              "      <th>0</th>\n",
              "      <td>24</td>\n",
              "      <td>Your Second Language</td>\n",
              "      <td>Arabic</td>\n",
              "      <td>Female</td>\n",
              "      <td>Outside Europe</td>\n",
              "      <td>0.0</td>\n",
              "      <td>4.60</td>\n",
              "      <td>44</td>\n",
              "      <td>26</td>\n",
              "      <td>19</td>\n",
              "      <td>22</td>\n",
              "      <td>10</td>\n",
              "      <td>32</td>\n",
              "      <td>2017</td>\n",
              "    </tr>\n",
              "    <tr>\n",
              "      <th>1</th>\n",
              "      <td>22</td>\n",
              "      <td>Your Second Language</td>\n",
              "      <td>Arabic</td>\n",
              "      <td>Female</td>\n",
              "      <td>Outside Europe</td>\n",
              "      <td>0.0</td>\n",
              "      <td>2.60</td>\n",
              "      <td>29</td>\n",
              "      <td>10</td>\n",
              "      <td>37</td>\n",
              "      <td>9</td>\n",
              "      <td>16</td>\n",
              "      <td>10</td>\n",
              "      <td>2017</td>\n",
              "    </tr>\n",
              "    <tr>\n",
              "      <th>2</th>\n",
              "      <td>26</td>\n",
              "      <td>Your Second Language</td>\n",
              "      <td>Burmese</td>\n",
              "      <td>Female</td>\n",
              "      <td>Outside Europe</td>\n",
              "      <td>0.0</td>\n",
              "      <td>4.13</td>\n",
              "      <td>26</td>\n",
              "      <td>20</td>\n",
              "      <td>20</td>\n",
              "      <td>18</td>\n",
              "      <td>20</td>\n",
              "      <td>24</td>\n",
              "      <td>2017</td>\n",
              "    </tr>\n",
              "    <tr>\n",
              "      <th>3</th>\n",
              "      <td>23</td>\n",
              "      <td>Your Second Language</td>\n",
              "      <td>Chinese</td>\n",
              "      <td>Male</td>\n",
              "      <td>Outside Europe</td>\n",
              "      <td>0.0</td>\n",
              "      <td>2.77</td>\n",
              "      <td>30</td>\n",
              "      <td>16</td>\n",
              "      <td>28</td>\n",
              "      <td>20</td>\n",
              "      <td>17</td>\n",
              "      <td>10</td>\n",
              "      <td>2017</td>\n",
              "    </tr>\n",
              "    <tr>\n",
              "      <th>4</th>\n",
              "      <td>25</td>\n",
              "      <td>Your Second Language</td>\n",
              "      <td>Chinese</td>\n",
              "      <td>Female</td>\n",
              "      <td>Outside Europe</td>\n",
              "      <td>0.0</td>\n",
              "      <td>3.80</td>\n",
              "      <td>33</td>\n",
              "      <td>27</td>\n",
              "      <td>15</td>\n",
              "      <td>18</td>\n",
              "      <td>12</td>\n",
              "      <td>17</td>\n",
              "      <td>2017</td>\n",
              "    </tr>\n",
              "  </tbody>\n",
              "</table>\n",
              "</div>\n",
              "    <div class=\"colab-df-buttons\">\n",
              "\n",
              "  <div class=\"colab-df-container\">\n",
              "    <button class=\"colab-df-convert\" onclick=\"convertToInteractive('df-ef2e2049-0731-4016-8e30-11b49e179952')\"\n",
              "            title=\"Convert this dataframe to an interactive table.\"\n",
              "            style=\"display:none;\">\n",
              "\n",
              "  <svg xmlns=\"http://www.w3.org/2000/svg\" height=\"24px\" viewBox=\"0 -960 960 960\">\n",
              "    <path d=\"M120-120v-720h720v720H120Zm60-500h600v-160H180v160Zm220 220h160v-160H400v160Zm0 220h160v-160H400v160ZM180-400h160v-160H180v160Zm440 0h160v-160H620v160ZM180-180h160v-160H180v160Zm440 0h160v-160H620v160Z\"/>\n",
              "  </svg>\n",
              "    </button>\n",
              "\n",
              "  <style>\n",
              "    .colab-df-container {\n",
              "      display:flex;\n",
              "      gap: 12px;\n",
              "    }\n",
              "\n",
              "    .colab-df-convert {\n",
              "      background-color: #E8F0FE;\n",
              "      border: none;\n",
              "      border-radius: 50%;\n",
              "      cursor: pointer;\n",
              "      display: none;\n",
              "      fill: #1967D2;\n",
              "      height: 32px;\n",
              "      padding: 0 0 0 0;\n",
              "      width: 32px;\n",
              "    }\n",
              "\n",
              "    .colab-df-convert:hover {\n",
              "      background-color: #E2EBFA;\n",
              "      box-shadow: 0px 1px 2px rgba(60, 64, 67, 0.3), 0px 1px 3px 1px rgba(60, 64, 67, 0.15);\n",
              "      fill: #174EA6;\n",
              "    }\n",
              "\n",
              "    .colab-df-buttons div {\n",
              "      margin-bottom: 4px;\n",
              "    }\n",
              "\n",
              "    [theme=dark] .colab-df-convert {\n",
              "      background-color: #3B4455;\n",
              "      fill: #D2E3FC;\n",
              "    }\n",
              "\n",
              "    [theme=dark] .colab-df-convert:hover {\n",
              "      background-color: #434B5C;\n",
              "      box-shadow: 0px 1px 3px 1px rgba(0, 0, 0, 0.15);\n",
              "      filter: drop-shadow(0px 1px 2px rgba(0, 0, 0, 0.3));\n",
              "      fill: #FFFFFF;\n",
              "    }\n",
              "  </style>\n",
              "\n",
              "    <script>\n",
              "      const buttonEl =\n",
              "        document.querySelector('#df-ef2e2049-0731-4016-8e30-11b49e179952 button.colab-df-convert');\n",
              "      buttonEl.style.display =\n",
              "        google.colab.kernel.accessAllowed ? 'block' : 'none';\n",
              "\n",
              "      async function convertToInteractive(key) {\n",
              "        const element = document.querySelector('#df-ef2e2049-0731-4016-8e30-11b49e179952');\n",
              "        const dataTable =\n",
              "          await google.colab.kernel.invokeFunction('convertToInteractive',\n",
              "                                                    [key], {});\n",
              "        if (!dataTable) return;\n",
              "\n",
              "        const docLinkHtml = 'Like what you see? Visit the ' +\n",
              "          '<a target=\"_blank\" href=https://colab.research.google.com/notebooks/data_table.ipynb>data table notebook</a>'\n",
              "          + ' to learn more about interactive tables.';\n",
              "        element.innerHTML = '';\n",
              "        dataTable['output_type'] = 'display_data';\n",
              "        await google.colab.output.renderOutput(dataTable, element);\n",
              "        const docLink = document.createElement('div');\n",
              "        docLink.innerHTML = docLinkHtml;\n",
              "        element.appendChild(docLink);\n",
              "      }\n",
              "    </script>\n",
              "  </div>\n",
              "\n",
              "\n",
              "<div id=\"df-7c3a2fa0-cbe5-4f0b-840c-3cd9314d230b\">\n",
              "  <button class=\"colab-df-quickchart\" onclick=\"quickchart('df-7c3a2fa0-cbe5-4f0b-840c-3cd9314d230b')\"\n",
              "            title=\"Suggest charts.\"\n",
              "            style=\"display:none;\">\n",
              "\n",
              "<svg xmlns=\"http://www.w3.org/2000/svg\" height=\"24px\"viewBox=\"0 0 24 24\"\n",
              "     width=\"24px\">\n",
              "    <g>\n",
              "        <path d=\"M19 3H5c-1.1 0-2 .9-2 2v14c0 1.1.9 2 2 2h14c1.1 0 2-.9 2-2V5c0-1.1-.9-2-2-2zM9 17H7v-7h2v7zm4 0h-2V7h2v10zm4 0h-2v-4h2v4z\"/>\n",
              "    </g>\n",
              "</svg>\n",
              "  </button>\n",
              "\n",
              "<style>\n",
              "  .colab-df-quickchart {\n",
              "      --bg-color: #E8F0FE;\n",
              "      --fill-color: #1967D2;\n",
              "      --hover-bg-color: #E2EBFA;\n",
              "      --hover-fill-color: #174EA6;\n",
              "      --disabled-fill-color: #AAA;\n",
              "      --disabled-bg-color: #DDD;\n",
              "  }\n",
              "\n",
              "  [theme=dark] .colab-df-quickchart {\n",
              "      --bg-color: #3B4455;\n",
              "      --fill-color: #D2E3FC;\n",
              "      --hover-bg-color: #434B5C;\n",
              "      --hover-fill-color: #FFFFFF;\n",
              "      --disabled-bg-color: #3B4455;\n",
              "      --disabled-fill-color: #666;\n",
              "  }\n",
              "\n",
              "  .colab-df-quickchart {\n",
              "    background-color: var(--bg-color);\n",
              "    border: none;\n",
              "    border-radius: 50%;\n",
              "    cursor: pointer;\n",
              "    display: none;\n",
              "    fill: var(--fill-color);\n",
              "    height: 32px;\n",
              "    padding: 0;\n",
              "    width: 32px;\n",
              "  }\n",
              "\n",
              "  .colab-df-quickchart:hover {\n",
              "    background-color: var(--hover-bg-color);\n",
              "    box-shadow: 0 1px 2px rgba(60, 64, 67, 0.3), 0 1px 3px 1px rgba(60, 64, 67, 0.15);\n",
              "    fill: var(--button-hover-fill-color);\n",
              "  }\n",
              "\n",
              "  .colab-df-quickchart-complete:disabled,\n",
              "  .colab-df-quickchart-complete:disabled:hover {\n",
              "    background-color: var(--disabled-bg-color);\n",
              "    fill: var(--disabled-fill-color);\n",
              "    box-shadow: none;\n",
              "  }\n",
              "\n",
              "  .colab-df-spinner {\n",
              "    border: 2px solid var(--fill-color);\n",
              "    border-color: transparent;\n",
              "    border-bottom-color: var(--fill-color);\n",
              "    animation:\n",
              "      spin 1s steps(1) infinite;\n",
              "  }\n",
              "\n",
              "  @keyframes spin {\n",
              "    0% {\n",
              "      border-color: transparent;\n",
              "      border-bottom-color: var(--fill-color);\n",
              "      border-left-color: var(--fill-color);\n",
              "    }\n",
              "    20% {\n",
              "      border-color: transparent;\n",
              "      border-left-color: var(--fill-color);\n",
              "      border-top-color: var(--fill-color);\n",
              "    }\n",
              "    30% {\n",
              "      border-color: transparent;\n",
              "      border-left-color: var(--fill-color);\n",
              "      border-top-color: var(--fill-color);\n",
              "      border-right-color: var(--fill-color);\n",
              "    }\n",
              "    40% {\n",
              "      border-color: transparent;\n",
              "      border-right-color: var(--fill-color);\n",
              "      border-top-color: var(--fill-color);\n",
              "    }\n",
              "    60% {\n",
              "      border-color: transparent;\n",
              "      border-right-color: var(--fill-color);\n",
              "    }\n",
              "    80% {\n",
              "      border-color: transparent;\n",
              "      border-right-color: var(--fill-color);\n",
              "      border-bottom-color: var(--fill-color);\n",
              "    }\n",
              "    90% {\n",
              "      border-color: transparent;\n",
              "      border-bottom-color: var(--fill-color);\n",
              "    }\n",
              "  }\n",
              "</style>\n",
              "\n",
              "  <script>\n",
              "    async function quickchart(key) {\n",
              "      const quickchartButtonEl =\n",
              "        document.querySelector('#' + key + ' button');\n",
              "      quickchartButtonEl.disabled = true;  // To prevent multiple clicks.\n",
              "      quickchartButtonEl.classList.add('colab-df-spinner');\n",
              "      try {\n",
              "        const charts = await google.colab.kernel.invokeFunction(\n",
              "            'suggestCharts', [key], {});\n",
              "      } catch (error) {\n",
              "        console.error('Error during call to suggestCharts:', error);\n",
              "      }\n",
              "      quickchartButtonEl.classList.remove('colab-df-spinner');\n",
              "      quickchartButtonEl.classList.add('colab-df-quickchart-complete');\n",
              "    }\n",
              "    (() => {\n",
              "      let quickchartButtonEl =\n",
              "        document.querySelector('#df-7c3a2fa0-cbe5-4f0b-840c-3cd9314d230b button');\n",
              "      quickchartButtonEl.style.display =\n",
              "        google.colab.kernel.accessAllowed ? 'block' : 'none';\n",
              "    })();\n",
              "  </script>\n",
              "</div>\n",
              "    </div>\n",
              "  </div>\n"
            ]
          },
          "metadata": {},
          "execution_count": 49
        }
      ]
    },
    {
      "cell_type": "markdown",
      "metadata": {
        "id": "EMq3ymhwlcYR"
      },
      "source": [
        "### Exercise 7 - Creating a pie chart of stress data\n",
        "---\n",
        "Create a pie chart which shows how stressed students who speak different languages are.   \n",
        "\n",
        "To do this:\n",
        "\n",
        "* similar to Exercise 6 - create a variable which groups the means of data by firstlanguage  \n",
        "* store the means for 'Stress' in a variable called data\n",
        "* extract your labels using the keys() function\n",
        "* plot your pie chart using plt.pie(data, labels = labels)\n",
        "* write a comment noting anything interesting about the visualisation\n",
        "\n",
        "\n"
      ]
    },
    {
      "cell_type": "code",
      "metadata": {
        "id": "4mbOBPE-nU7o",
        "colab": {
          "base_uri": "https://localhost:8080/",
          "height": 478
        },
        "outputId": "3d09f676-eb41-41f5-85a2-fdd868a9c98d"
      },
      "source": [
        "groups = psych_data.groupby([\"firstlanguage\"]).mean()\n",
        "data = groups[\"Stress\"]\n",
        "labels = data.keys()\n",
        "plt.pie(data, labels = labels)\n",
        "plt.show()\n",
        "print(\"The diagram shows that speakers of Greek, Arabic and Romanic languages experience the biggest stress.\")"
      ],
      "execution_count": 65,
      "outputs": [
        {
          "output_type": "stream",
          "name": "stderr",
          "text": [
            "<ipython-input-65-7776f024a143>:1: FutureWarning: The default value of numeric_only in DataFrameGroupBy.mean is deprecated. In a future version, numeric_only will default to False. Either specify numeric_only or select only columns which should be valid for the function.\n",
            "  groups = psych_data.groupby([\"firstlanguage\"]).mean()\n"
          ]
        },
        {
          "output_type": "display_data",
          "data": {
            "text/plain": [
              "<Figure size 640x480 with 1 Axes>"
            ],
            "image/png": "[encoded data removed]"
          },
          "metadata": {}
        },
        {
          "output_type": "stream",
          "name": "stdout",
          "text": [
            "The diagram shows that speakers of Greek, Arabic and Romanic languages experience the biggest stress.\n"
          ]
        }
      ]
    },
    {
      "cell_type": "markdown",
      "metadata": {
        "id": "dLNPuH5zuq7Y"
      },
      "source": [
        "### Exercise 8 - Creating a box plot of Wellbeing\n",
        "---\n",
        "A box plot is used to visualise summary infomation about a data series such as the min, max and median.\n",
        "\n",
        "Create a box plot of the Wellbeing scores\n",
        "\n",
        "*  split off the wellbeing column  \n",
        "*  use plt.boxplot(data, labels=\"Wellbeing\") to create boxplot\n",
        "*  show the boxplot"
      ]
    },
    {
      "cell_type": "code",
      "metadata": {
        "id": "i7fctsOQlcGR",
        "colab": {
          "base_uri": "https://localhost:8080/",
          "height": 449
        },
        "outputId": "26401e8d-b72a-48e7-c504-987c6dc549ac"
      },
      "source": [
        "wellbeing = psych_data[\"Wellbeing\"]\n",
        "plt.boxplot(wellbeing)\n",
        "plt.xlabel('Wellbeing')\n",
        "plt.show()"
      ],
      "execution_count": 69,
      "outputs": [
        {
          "output_type": "display_data",
          "data": {
            "text/plain": [
              "<Figure size 640x480 with 1 Axes>"
            ],
            "image/png": "[encoded data removed]"
          },
          "metadata": {}
        }
      ]
    },
    {
      "cell_type": "markdown",
      "metadata": {
        "id": "ecS9uzAs3AuV"
      },
      "source": [
        "### Exercise 9 - Histograms of  age\n",
        "---\n",
        "\n",
        "Create a histogram which shows the frequency distribution for '`Wellbeing`'.\n",
        "\n",
        "* split the `Wellbeing` column off to provide the data\n",
        "* plot the histogram using `plt.hist(data)`\n",
        "* add labels using `plt.xlabel()` and `plt.ylabel()`\n",
        "* change the colours of the bars - try plt.hist(x, color = 'red')\n",
        "* show the plot\n"
      ]
    },
    {
      "cell_type": "code",
      "metadata": {
        "id": "Iuo3TJOG3ASF",
        "colab": {
          "base_uri": "https://localhost:8080/",
          "height": 430
        },
        "outputId": "e08b7331-9376-40d1-f011-6d91818ae3ff"
      },
      "source": [
        "plt.hist(wellbeing, color = \"red\")\n",
        "plt.ylabel(\"Wellbeing\")\n",
        "plt.show()"
      ],
      "execution_count": 75,
      "outputs": [
        {
          "output_type": "display_data",
          "data": {
            "text/plain": [
              "<Figure size 640x480 with 1 Axes>"
            ],
            "image/png": "[encoded data removed]"
          },
          "metadata": {}
        }
      ]
    },
    {
      "cell_type": "markdown",
      "metadata": {
        "id": "7ijbVqHZ1YhP"
      },
      "source": [
        "### Exercise 10 - Create a scatterplot of Wellbeing and Stress with line of best fit\n",
        "---\n",
        "\n",
        "Earlier in exercise 3, we found that Stress significantly predicted Wellbeing.\n",
        "\n",
        "Create a scatterplot of Wellbeing and Stress data.\n",
        "\n",
        "* create **x** from the `Stress` column\n",
        "* create *y* from the `Wellbeing` column\n",
        "* use `plt.scatter(x,y)` to create a scatterplot\n",
        "* add x axis and y axis labels using `plt.xlabel('Stress')` and `plt.ylabel('Wellbeing')`\n",
        "*  \n",
        "\n",
        "Adding a line of best fit:   \n",
        "\n",
        "* create a regression variable and assign the result of using linregress\n",
        "* store the slope and intercept (`slope = regression.slope`, `intercept = regression.intercept`)\n",
        "* plt.plot(x, slope*x + intercept)\n",
        "\n",
        "Show the plots.\n",
        "\n",
        "Write a short data story ( a description of the data.  What conclusion could be reached from the chart?  How confident could you be in this conclusion and why?\n",
        "\n",
        "\n"
      ]
    },
    {
      "cell_type": "code",
      "metadata": {
        "id": "9puphgbB1tUY",
        "colab": {
          "base_uri": "https://localhost:8080/",
          "height": 449
        },
        "outputId": "0c650dec-5aef-46ef-bdcd-30b99fd42510"
      },
      "source": [
        "x = psych_data[\"Stress\"]\n",
        "y = psych_data[\"Wellbeing\"]\n",
        "plt.scatter(x,y)\n",
        "plt.xlabel('Stress')\n",
        "plt.ylabel('Wellbeing')\n",
        "regression = linregress(x,y)\n",
        "slope = regression.slope\n",
        "intercept = regression.intercept\n",
        "plt.plot(x, slope*x + intercept)\n",
        "plt.show()"
      ],
      "execution_count": 79,
      "outputs": [
        {
          "output_type": "display_data",
          "data": {
            "text/plain": [
              "<Figure size 640x480 with 1 Axes>"
            ],
            "image/png": "[encoded data removed]"
          },
          "metadata": {}
        }
      ]
    },
    {
      "cell_type": "markdown",
      "metadata": {
        "id": "HF-Vx5EyxARG"
      },
      "source": [
        "## Data story\n",
        "---\n",
        "\n",
        "Add your data story here"
      ]
    },
    {
      "cell_type": "markdown",
      "source": [
        "Stress can have a significant impact on a person's overall well-being, and understanding how stress predicts well-being is a crucial aspect of mental and physical health research.\n",
        "This analisys shows that stress can have detrimental effects on a person's well-being.\n",
        "Studying the correlation between stress and well-being is of paramount importance for several reasons: it enables the development of preventive strategies to reduce the risk of stress-related illnesses, research in this area can inform policymakers and organizations on how to create environments and policies that support well-being and reduce stressors, thereby enhancing the overall quality of life for populations."
      ],
      "metadata": {
        "id": "akmSL7YE4vzA"
      }
    },
    {
      "cell_type": "markdown",
      "metadata": {
        "id": "FWli4XMmsAPo"
      },
      "source": [
        "# Further reference on w3schools\n",
        "\n",
        "[Matplotlib on w3schools](https://www.w3schools.com/python/matplotlib_intro.**asp**)"
      ]
    }
  ]
}