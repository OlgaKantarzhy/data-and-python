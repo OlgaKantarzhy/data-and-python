{
  "nbformat": 4,
  "nbformat_minor": 0,
  "metadata": {
    "colab": {
      "provenance": [],
      "include_colab_link": true
    },
    "kernelspec": {
      "name": "python3",
      "display_name": "Python 3"
    }
  },
  "cells": [
    {
      "cell_type": "markdown",
      "metadata": {
        "id": "view-in-github",
        "colab_type": "text"
      },
      "source": [
        "<a href=\"https://colab.research.google.com/github/OlgaKantarzhy/data-and-python/blob/main/07_SelectionChallenge.ipynb\" target=\"_parent\"><img src=\"https://colab.research.google.com/assets/colab-badge.svg\" alt=\"Open In Colab\"/></a>"
      ]
    },
    {
      "cell_type": "markdown",
      "metadata": {
        "id": "-QxAKPD8DZfj"
      },
      "source": [
        "# Three selection challenges\n",
        "\n",
        "---\n"
      ]
    },
    {
      "cell_type": "markdown",
      "metadata": {
        "id": "2KYUALILDcM9"
      },
      "source": [
        "### Challenge 1 - password format  \n",
        "\n",
        "Write a function called **check_password_valid()** which will check the validity of a **password** input by a user.\n",
        "\n",
        "Rules for a valid password are:  \n",
        "\n",
        "*  At least 1 letter between [a-z] and 1 letter between [A-Z].\n",
        "*  At least 1 number between [0-9].\n",
        "*  At least 1 character from [$#@].\n",
        "*  Minimum length 6 characters.\n",
        "*  Maximum length 16 characters.  \n",
        "\n",
        "Let the user know if the `password` they have typed is valid and, if not, where was the first error.\n",
        "\n",
        "*Hint:  to test if a set of characters is present in a password String, you can use re.search('[character set]', `password`)*  \n",
        "\n",
        "Example:   \n",
        "*if re.search('[a-z]',`password`):*    \n",
        "if there is at least 1 character a-z in the password, re.search will not be None.\n",
        "\n",
        "**re** is a pre-written Python function for pattern searching in Strings.  It has been imported for you in the code cell below.  "
      ]
    },
    {
      "cell_type": "code",
      "metadata": {
        "id": "8wBK9IA4BO2e",
        "colab": {
          "base_uri": "https://localhost:8080/"
        },
        "outputId": "05b4859a-8e72-4edd-a296-6925593ac60e"
      },
      "source": [
        "import re\n",
        "\n",
        "# add your check_PasswordValid() function and call below here\n",
        "def check_password_valid():\n",
        "  password = input(\"Enter your password: \")\n",
        "  if re.search(\"[a-z]\",password) == None and re.search(\"[A-Z]\",password) == None:\n",
        "    print(\"Password must include at least 1 letter\")\n",
        "  elif re.search('[0-9]',password) == None:\n",
        "    print(\"Password must include at least 1 number\")\n",
        "  elif re.search(\"[$#@]\",password) == None:\n",
        "    print(\"Password must include at least 1 special charachter from: $,#,@\")\n",
        "  elif len(password) < 6:\n",
        "    print(\"Password is too short\")\n",
        "  elif len(password) > 16:\n",
        "    print(\"Password is too long\")\n",
        "check_password_valid()"
      ],
      "execution_count": 7,
      "outputs": [
        {
          "output_type": "stream",
          "name": "stdout",
          "text": [
            "Enter your password: M2@\n",
            "Password is too short\n"
          ]
        }
      ]
    },
    {
      "cell_type": "markdown",
      "metadata": {
        "id": "f0R4GYTEFQS-"
      },
      "source": [
        "---\n",
        "### Challenge 2 - triangle shape  \n",
        "\n",
        "Write a function called **evaluate_triangle_shape()** which will check if a triangle is equilateral, isosceles or scalene, based on the three side lengths entered by a user (**x**, **y** and **z**.\n",
        "\n",
        "An equilateral triangle is a triangle in which all three sides are equal.\n",
        "A scalene triangle is a triangle that has three unequal sides.\n",
        "An isosceles triangle is a triangle with (at least) two equal sides.\n",
        "\n",
        "For example:  \n",
        "A triange with side lengths                                 \n",
        "x: 6                                                                    \n",
        "y: 8                                                                    \n",
        "z: 12                                                                   \n",
        "is a *Scalene triangle*\n",
        "\n",
        "A triangle with side lengths\n",
        "x:5  \n",
        "y:3   \n",
        "z:5  \n",
        "is an *Isosceles triangle*"
      ]
    },
    {
      "cell_type": "code",
      "metadata": {
        "id": "oBgl4ro1DVL0",
        "colab": {
          "base_uri": "https://localhost:8080/"
        },
        "outputId": "10f15658-614a-4ef3-f415-88d530324923"
      },
      "source": [
        "def evaluate_triangle_shape():\n",
        "  x = int(input(\"Enter 1st side:\"))\n",
        "  y = int(input(\"Enter 2nd side:\"))\n",
        "  z = int(input(\"Enter 3rd side:\"))\n",
        "  if x==y==z:\n",
        "    print(\"Equilateral triangle\")\n",
        "  elif x==y or y==z or x==z:\n",
        "    print(\"Isosceles triangle\")\n",
        "  else:\n",
        "    print(\"Scalene triangle\")\n",
        "evaluate_triangle_shape()"
      ],
      "execution_count": 11,
      "outputs": [
        {
          "output_type": "stream",
          "name": "stdout",
          "text": [
            "Enter 1st side:4\n",
            "Enter 2nd side:4\n",
            "Enter 3rd side:5\n",
            "Isosceles triangle\n"
          ]
        }
      ]
    },
    {
      "cell_type": "markdown",
      "metadata": {
        "id": "hr2EotkqG33l"
      },
      "source": [
        "---\n",
        "### Challenge 3 - which season\n",
        "\n",
        "Write a function called **determine_season()** which will ask the user to enter two integers representing a **month** and **day** and prints the season for that month and day.\n",
        "\n",
        "Note:  for this exercise the season dates are:\n",
        "*  Winter December 21 to March 20    \n",
        "*  Spring March 21 to June 20  \n",
        "*  Summer June 21 to September 20  \n",
        "*  Autumn September 21 to December 20\n",
        "\n",
        "Test input:  \n",
        "Input the month (e.g. January, February etc.): 7                     \n",
        "Input the day: 31                                                       \n",
        "\n",
        "Expected output:  \n",
        "Season is summer\n",
        "\n",
        "*Note: this will require multiple and or or operators and you should use brackets to help Python know which operations to do first*  \n",
        "\n",
        "*For an extra challenge you can check that the day is valid for the month*"
      ]
    },
    {
      "cell_type": "code",
      "metadata": {
        "id": "cvbfz8nzG4IL",
        "colab": {
          "base_uri": "https://localhost:8080/"
        },
        "outputId": "2379f5bb-02e2-47e7-f76e-bb92ea335d6a"
      },
      "source": [
        "def determine_season():\n",
        "  month = int(input(\"Input the month: \"))\n",
        "  day = int(input(\"Input the day: \"))\n",
        "  if month == 1 and day > 31 or month == 3 and day > 31 or month == 5 and day > 31 or month == 7 and day > 31 or month == 9 and day > 31 or month == 11 and day > 31 or month == 2 and day > 29 or  month == 4 and day > 30 or month == 6 and day > 30 or month == 8 and day > 31 or month == 10 and day > 30:\n",
        "    print(\"This day doesn't exist\")\n",
        "  else:\n",
        "    if month == 12 and day>21 or month == 1 or month == 2 or month == 3 and day <20:\n",
        "      print(\"Season is Winter\")\n",
        "    elif month == 3 and day>21 or month == 4 or month == 5 or month == 6 and day <20:\n",
        "      print(\"Season is Spring\")\n",
        "    elif month == 6 and day>21 or month == 7 or month == 8 or month == 9 and day <20:\n",
        "      print(\"Season is Summer\")\n",
        "    else:\n",
        "      print(\"Season is Autumn\")\n",
        "determine_season()"
      ],
      "execution_count": 21,
      "outputs": [
        {
          "output_type": "stream",
          "name": "stdout",
          "text": [
            "Input the month: 1\n",
            "Input the day: 1\n",
            "Season is Winter\n"
          ]
        }
      ]
    }
  ]
}