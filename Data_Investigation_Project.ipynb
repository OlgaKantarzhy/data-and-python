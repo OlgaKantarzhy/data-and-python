{
  "nbformat": 4,
  "nbformat_minor": 0,
  "metadata": {
    "colab": {
      "provenance": [],
      "include_colab_link": true
    },
    "kernelspec": {
      "name": "python3",
      "display_name": "Python 3"
    },
    "language_info": {
      "name": "python"
    }
  },
  "cells": [
    {
      "cell_type": "markdown",
      "metadata": {
        "id": "view-in-github",
        "colab_type": "text"
      },
      "source": [
        "<a href=\"https://colab.research.google.com/github/OlgaKantarzhy/data-and-python/blob/main/Data_Investigation_Project.ipynb\" target=\"_parent\"><img src=\"https://colab.research.google.com/assets/colab-badge.svg\" alt=\"Open In Colab\"/></a>"
      ]
    },
    {
      "cell_type": "markdown",
      "metadata": {
        "id": "hmwPnuX3KU5t"
      },
      "source": [
        "# Data investigation project\n",
        "---\n",
        "\n",
        "Use what you have learnt so far about reading data files and displaying rows, columns, unique values, etc, to investigate and produce some printed information from this data set: https://raw.githubusercontent.com/futureCodersSE/working-with-data/main/Data%20sets/housing_in_london_yearly_variables.csv"
      ]
    },
    {
      "cell_type": "code",
      "metadata": {
        "id": "Z1q5Ven3KUEL",
        "colab": {
          "base_uri": "https://localhost:8080/"
        },
        "outputId": "da8a1202-1ed6-43dd-a875-b6c9b284e54f"
      },
      "source": [
        "import pandas as pd\n",
        "url = 'https://raw.githubusercontent.com/futureCodersSE/working-with-data/main/Data%20sets/housing_in_london_yearly_variables.csv'\n",
        "df = pd.read_csv(url)\n",
        "\n",
        "print('The data represents the following', df[\"area\"].unique().shape[0],'areas of the UK:')\n",
        "for area in df['area'].unique():\n",
        "  print(area)\n",
        "\n",
        "dates = df[\"date\"].unique()\n",
        "print(\"The period is from\", dates[0], \"to\", dates[-1])\n",
        "\n",
        "population_uk_sorted = df[df[\"area\"]==\"united kingdom\"].sort_values([\"date\"], ascending = False)\n",
        "print(\"The data of population in the UK for the latest 5 years of monitoring:\")\n",
        "print(population_uk_sorted[[\"date\", \"population_size\"]].head(5))\n",
        "\n",
        "print(\"The statistics for population in Scotland is below:\")\n",
        "population_sorted = df[df[\"area\"]==\"scotland\"].sort_values([\"population_size\"], ascending = False)\n",
        "print(population_sorted[[\"area\",\"date\",\"population_size\"]])\n",
        "\n",
        "print(\"The greatest population in Scotland was registered in\", population_sorted[\"date\"].head(1).item())\n"
      ],
      "execution_count": 1,
      "outputs": [
        {
          "output_type": "stream",
          "name": "stdout",
          "text": [
            "The data represents the following 51 areas of the UK:\n",
            "city of london\n",
            "barking and dagenham\n",
            "barnet\n",
            "bexley\n",
            "brent\n",
            "bromley\n",
            "camden\n",
            "croydon\n",
            "ealing\n",
            "enfield\n",
            "greenwich\n",
            "hackney\n",
            "hammersmith and fulham\n",
            "haringey\n",
            "harrow\n",
            "havering\n",
            "hillingdon\n",
            "hounslow\n",
            "islington\n",
            "kensington and chelsea\n",
            "kingston upon thames\n",
            "lambeth\n",
            "lewisham\n",
            "merton\n",
            "newham\n",
            "redbridge\n",
            "richmond upon thames\n",
            "southwark\n",
            "sutton\n",
            "tower hamlets\n",
            "waltham forest\n",
            "wandsworth\n",
            "westminster\n",
            "north east\n",
            "north west\n",
            "yorkshire and the humber\n",
            "east midlands\n",
            "west midlands\n",
            "east\n",
            "london\n",
            "south east\n",
            "south west\n",
            "inner london\n",
            "outer london\n",
            "england\n",
            "united kingdom\n",
            "great britain\n",
            "england and wales\n",
            "northern ireland\n",
            "scotland\n",
            "wales\n",
            "The period is from 1999-12-01 to 2019-12-01\n",
            "The data of population in the UK for the latest 5 years of monitoring:\n",
            "            date  population_size\n",
            "1065  2019-12-01              NaN\n",
            "1014  2018-12-01       66435550.0\n",
            "963   2017-12-01       66040229.0\n",
            "912   2016-12-01       65648054.0\n",
            "861   2015-12-01       65110034.0\n",
            "The statistics for population in Scotland is below:\n",
            "          area        date  population_size\n",
            "1018  scotland  2018-12-01        5438100.0\n",
            "967   scotland  2017-12-01        5424800.0\n",
            "916   scotland  2016-12-01        5404700.0\n",
            "865   scotland  2015-12-01        5373000.0\n",
            "814   scotland  2014-12-01        5347600.0\n",
            "763   scotland  2013-12-01        5327700.0\n",
            "712   scotland  2012-12-01        5313600.0\n",
            "661   scotland  2011-12-01        5299900.0\n",
            "610   scotland  2010-12-01        5262200.0\n",
            "559   scotland  2009-12-01        5231900.0\n",
            "508   scotland  2008-12-01        5202900.0\n",
            "457   scotland  2007-12-01        5170000.0\n",
            "406   scotland  2006-12-01        5133100.0\n",
            "355   scotland  2005-12-01        5110200.0\n",
            "304   scotland  2004-12-01        5084300.0\n",
            "49    scotland  1999-12-01        5071950.0\n",
            "253   scotland  2003-12-01        5068500.0\n",
            "202   scotland  2002-12-01        5066000.0\n",
            "151   scotland  2001-12-01        5064200.0\n",
            "100   scotland  2000-12-01        5062940.0\n",
            "1069  scotland  2019-12-01              NaN\n",
            "The greatest population in Scotland was registered in 2018-12-01\n"
          ]
        }
      ]
    }
  ]
}