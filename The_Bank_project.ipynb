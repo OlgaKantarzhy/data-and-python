{
  "nbformat": 4,
  "nbformat_minor": 0,
  "metadata": {
    "colab": {
      "provenance": [],
      "include_colab_link": true
    },
    "kernelspec": {
      "name": "python3",
      "display_name": "Python 3"
    },
    "language_info": {
      "name": "python"
    }
  },
  "cells": [
    {
      "cell_type": "markdown",
      "metadata": {
        "id": "view-in-github",
        "colab_type": "text"
      },
      "source": [
        "<a href=\"https://colab.research.google.com/github/OlgaKantarzhy/data-and-python/blob/main/The_Bank_project.ipynb\" target=\"_parent\"><img src=\"https://colab.research.google.com/assets/colab-badge.svg\" alt=\"Open In Colab\"/></a>"
      ]
    },
    {
      "cell_type": "markdown",
      "source": [
        "# The Bank Project\n",
        "---\n",
        "\n"
      ],
      "metadata": {
        "id": "02dpR9rYMijh"
      }
    },
    {
      "cell_type": "markdown",
      "source": [
        "## Olga Kantarzhy\n",
        "###October, 2023\n",
        "---\n",
        "\n",
        "\n"
      ],
      "metadata": {
        "id": "LwvpNNyXOmjw"
      }
    },
    {
      "cell_type": "markdown",
      "source": [
        "## Objectives\n",
        "Customer churn can have a significant financial impact on banks. When customers close their accounts, withdraw their deposits, or transfer their loans to other institutions, it can result in a loss of revenue. Analyzing churn helps banks understand the scale of the financial impact and take measures to mitigate it.\n",
        "\n",
        "This project used Python to help the bank improve customer retention rates by identifying and addressing the factors that are driving customers to leave.\n",
        "\n",
        "The main objective is to discover valuable information about customers and investigate the correlation (if any) between different factors related to demographics, finances, and product usage that are found within the dataset.\n",
        "\n",
        "Business Goal is to find the characteristics of a customer that is no longer an existing card holder.\n",
        "\n",
        "---\n"
      ],
      "metadata": {
        "id": "qsjh0h6UMmb3"
      }
    },
    {
      "cell_type": "markdown",
      "source": [
        "## The dataset\n",
        "_This dataset was originally retreived from https://www.kaggle.com/datasets/sakshigoyal7/credit-card-customers/data\n",
        "\n",
        "It includes data about more than 10,000 customers, containing information such as age, salary, marital status, credit card limit, credit card category, etc. There are almost 18 features in total.\n"
      ],
      "metadata": {
        "id": "cSHl2YRBM7qq"
      }
    },
    {
      "cell_type": "code",
      "source": [
        "#Importing libraries\n",
        "import pandas as pd\n",
        "from scipy.stats import linregress\n",
        "import matplotlib.pyplot as plt"
      ],
      "metadata": {
        "id": "QiM3i8yUo9Fq"
      },
      "execution_count": 2,
      "outputs": []
    },
    {
      "cell_type": "code",
      "source": [
        "#Retrieving data\n",
        "df = pd.read_csv(\"https://raw.githubusercontent.com/OlgaKantarzhy/data-and-python/main/Data%20Sets/BankChurners.csv\")\n",
        "\n",
        "#Removing last two columns as advised by the data source (as they indicate naive bayes classifier attrition prediction score)\n",
        "df = df[df.columns[:-2]]\n",
        "df.head()"
      ],
      "metadata": {
        "colab": {
          "base_uri": "https://localhost:8080/",
          "height": 342
        },
        "id": "V2bZ1yiEplvw",
        "outputId": "fd801070-4a25-4b61-9d18-dcd9c69d45f4"
      },
      "execution_count": 3,
      "outputs": [
        {
          "output_type": "execute_result",
          "data": {
            "text/plain": [
              "   CLIENTNUM     Attrition_Flag  Customer_Age Gender  Dependent_count  \\\n",
              "0  768805383  Existing Customer            45      M                3   \n",
              "1  818770008  Existing Customer            49      F                5   \n",
              "2  713982108  Existing Customer            51      M                3   \n",
              "3  769911858  Existing Customer            40      F                4   \n",
              "4  709106358  Existing Customer            40      M                3   \n",
              "\n",
              "  Education_Level Marital_Status Income_Category Card_Category  \\\n",
              "0     High School        Married     $60K - $80K          Blue   \n",
              "1        Graduate         Single  Less than $40K          Blue   \n",
              "2        Graduate        Married    $80K - $120K          Blue   \n",
              "3     High School        Unknown  Less than $40K          Blue   \n",
              "4      Uneducated        Married     $60K - $80K          Blue   \n",
              "\n",
              "   Months_on_book  ...  Months_Inactive_12_mon  Contacts_Count_12_mon  \\\n",
              "0              39  ...                       1                      3   \n",
              "1              44  ...                       1                      2   \n",
              "2              36  ...                       1                      0   \n",
              "3              34  ...                       4                      1   \n",
              "4              21  ...                       1                      0   \n",
              "\n",
              "   Credit_Limit  Total_Revolving_Bal  Avg_Open_To_Buy  Total_Amt_Chng_Q4_Q1  \\\n",
              "0       12691.0                  777          11914.0                 1.335   \n",
              "1        8256.0                  864           7392.0                 1.541   \n",
              "2        3418.0                    0           3418.0                 2.594   \n",
              "3        3313.0                 2517            796.0                 1.405   \n",
              "4        4716.0                    0           4716.0                 2.175   \n",
              "\n",
              "   Total_Trans_Amt  Total_Trans_Ct  Total_Ct_Chng_Q4_Q1  Avg_Utilization_Ratio  \n",
              "0             1144              42                1.625                  0.061  \n",
              "1             1291              33                3.714                  0.105  \n",
              "2             1887              20                2.333                  0.000  \n",
              "3             1171              20                2.333                  0.760  \n",
              "4              816              28                2.500                  0.000  \n",
              "\n",
              "[5 rows x 21 columns]"
            ],
            "text/html": [
              "\n",
              "  <div id=\"df-45a7bcac-40ec-4887-8933-60d5952492f5\" class=\"colab-df-container\">\n",
              "    <div>\n",
              "<style scoped>\n",
              "    .dataframe tbody tr th:only-of-type {\n",
              "        vertical-align: middle;\n",
              "    }\n",
              "\n",
              "    .dataframe tbody tr th {\n",
              "        vertical-align: top;\n",
              "    }\n",
              "\n",
              "    .dataframe thead th {\n",
              "        text-align: right;\n",
              "    }\n",
              "</style>\n",
              "<table border=\"1\" class=\"dataframe\">\n",
              "  <thead>\n",
              "    <tr style=\"text-align: right;\">\n",
              "      <th></th>\n",
              "      <th>CLIENTNUM</th>\n",
              "      <th>Attrition_Flag</th>\n",
              "      <th>Customer_Age</th>\n",
              "      <th>Gender</th>\n",
              "      <th>Dependent_count</th>\n",
              "      <th>Education_Level</th>\n",
              "      <th>Marital_Status</th>\n",
              "      <th>Income_Category</th>\n",
              "      <th>Card_Category</th>\n",
              "      <th>Months_on_book</th>\n",
              "      <th>...</th>\n",
              "      <th>Months_Inactive_12_mon</th>\n",
              "      <th>Contacts_Count_12_mon</th>\n",
              "      <th>Credit_Limit</th>\n",
              "      <th>Total_Revolving_Bal</th>\n",
              "      <th>Avg_Open_To_Buy</th>\n",
              "      <th>Total_Amt_Chng_Q4_Q1</th>\n",
              "      <th>Total_Trans_Amt</th>\n",
              "      <th>Total_Trans_Ct</th>\n",
              "      <th>Total_Ct_Chng_Q4_Q1</th>\n",
              "      <th>Avg_Utilization_Ratio</th>\n",
              "    </tr>\n",
              "  </thead>\n",
              "  <tbody>\n",
              "    <tr>\n",
              "      <th>0</th>\n",
              "      <td>768805383</td>\n",
              "      <td>Existing Customer</td>\n",
              "      <td>45</td>\n",
              "      <td>M</td>\n",
              "      <td>3</td>\n",
              "      <td>High School</td>\n",
              "      <td>Married</td>\n",
              "      <td>$60K - $80K</td>\n",
              "      <td>Blue</td>\n",
              "      <td>39</td>\n",
              "      <td>...</td>\n",
              "      <td>1</td>\n",
              "      <td>3</td>\n",
              "      <td>12691.0</td>\n",
              "      <td>777</td>\n",
              "      <td>11914.0</td>\n",
              "      <td>1.335</td>\n",
              "      <td>1144</td>\n",
              "      <td>42</td>\n",
              "      <td>1.625</td>\n",
              "      <td>0.061</td>\n",
              "    </tr>\n",
              "    <tr>\n",
              "      <th>1</th>\n",
              "      <td>818770008</td>\n",
              "      <td>Existing Customer</td>\n",
              "      <td>49</td>\n",
              "      <td>F</td>\n",
              "      <td>5</td>\n",
              "      <td>Graduate</td>\n",
              "      <td>Single</td>\n",
              "      <td>Less than $40K</td>\n",
              "      <td>Blue</td>\n",
              "      <td>44</td>\n",
              "      <td>...</td>\n",
              "      <td>1</td>\n",
              "      <td>2</td>\n",
              "      <td>8256.0</td>\n",
              "      <td>864</td>\n",
              "      <td>7392.0</td>\n",
              "      <td>1.541</td>\n",
              "      <td>1291</td>\n",
              "      <td>33</td>\n",
              "      <td>3.714</td>\n",
              "      <td>0.105</td>\n",
              "    </tr>\n",
              "    <tr>\n",
              "      <th>2</th>\n",
              "      <td>713982108</td>\n",
              "      <td>Existing Customer</td>\n",
              "      <td>51</td>\n",
              "      <td>M</td>\n",
              "      <td>3</td>\n",
              "      <td>Graduate</td>\n",
              "      <td>Married</td>\n",
              "      <td>$80K - $120K</td>\n",
              "      <td>Blue</td>\n",
              "      <td>36</td>\n",
              "      <td>...</td>\n",
              "      <td>1</td>\n",
              "      <td>0</td>\n",
              "      <td>3418.0</td>\n",
              "      <td>0</td>\n",
              "      <td>3418.0</td>\n",
              "      <td>2.594</td>\n",
              "      <td>1887</td>\n",
              "      <td>20</td>\n",
              "      <td>2.333</td>\n",
              "      <td>0.000</td>\n",
              "    </tr>\n",
              "    <tr>\n",
              "      <th>3</th>\n",
              "      <td>769911858</td>\n",
              "      <td>Existing Customer</td>\n",
              "      <td>40</td>\n",
              "      <td>F</td>\n",
              "      <td>4</td>\n",
              "      <td>High School</td>\n",
              "      <td>Unknown</td>\n",
              "      <td>Less than $40K</td>\n",
              "      <td>Blue</td>\n",
              "      <td>34</td>\n",
              "      <td>...</td>\n",
              "      <td>4</td>\n",
              "      <td>1</td>\n",
              "      <td>3313.0</td>\n",
              "      <td>2517</td>\n",
              "      <td>796.0</td>\n",
              "      <td>1.405</td>\n",
              "      <td>1171</td>\n",
              "      <td>20</td>\n",
              "      <td>2.333</td>\n",
              "      <td>0.760</td>\n",
              "    </tr>\n",
              "    <tr>\n",
              "      <th>4</th>\n",
              "      <td>709106358</td>\n",
              "      <td>Existing Customer</td>\n",
              "      <td>40</td>\n",
              "      <td>M</td>\n",
              "      <td>3</td>\n",
              "      <td>Uneducated</td>\n",
              "      <td>Married</td>\n",
              "      <td>$60K - $80K</td>\n",
              "      <td>Blue</td>\n",
              "      <td>21</td>\n",
              "      <td>...</td>\n",
              "      <td>1</td>\n",
              "      <td>0</td>\n",
              "      <td>4716.0</td>\n",
              "      <td>0</td>\n",
              "      <td>4716.0</td>\n",
              "      <td>2.175</td>\n",
              "      <td>816</td>\n",
              "      <td>28</td>\n",
              "      <td>2.500</td>\n",
              "      <td>0.000</td>\n",
              "    </tr>\n",
              "  </tbody>\n",
              "</table>\n",
              "<p>5 rows × 21 columns</p>\n",
              "</div>\n",
              "    <div class=\"colab-df-buttons\">\n",
              "\n",
              "  <div class=\"colab-df-container\">\n",
              "    <button class=\"colab-df-convert\" onclick=\"convertToInteractive('df-45a7bcac-40ec-4887-8933-60d5952492f5')\"\n",
              "            title=\"Convert this dataframe to an interactive table.\"\n",
              "            style=\"display:none;\">\n",
              "\n",
              "  <svg xmlns=\"http://www.w3.org/2000/svg\" height=\"24px\" viewBox=\"0 -960 960 960\">\n",
              "    <path d=\"M120-120v-720h720v720H120Zm60-500h600v-160H180v160Zm220 220h160v-160H400v160Zm0 220h160v-160H400v160ZM180-400h160v-160H180v160Zm440 0h160v-160H620v160ZM180-180h160v-160H180v160Zm440 0h160v-160H620v160Z\"/>\n",
              "  </svg>\n",
              "    </button>\n",
              "\n",
              "  <style>\n",
              "    .colab-df-container {\n",
              "      display:flex;\n",
              "      gap: 12px;\n",
              "    }\n",
              "\n",
              "    .colab-df-convert {\n",
              "      background-color: #E8F0FE;\n",
              "      border: none;\n",
              "      border-radius: 50%;\n",
              "      cursor: pointer;\n",
              "      display: none;\n",
              "      fill: #1967D2;\n",
              "      height: 32px;\n",
              "      padding: 0 0 0 0;\n",
              "      width: 32px;\n",
              "    }\n",
              "\n",
              "    .colab-df-convert:hover {\n",
              "      background-color: #E2EBFA;\n",
              "      box-shadow: 0px 1px 2px rgba(60, 64, 67, 0.3), 0px 1px 3px 1px rgba(60, 64, 67, 0.15);\n",
              "      fill: #174EA6;\n",
              "    }\n",
              "\n",
              "    .colab-df-buttons div {\n",
              "      margin-bottom: 4px;\n",
              "    }\n",
              "\n",
              "    [theme=dark] .colab-df-convert {\n",
              "      background-color: #3B4455;\n",
              "      fill: #D2E3FC;\n",
              "    }\n",
              "\n",
              "    [theme=dark] .colab-df-convert:hover {\n",
              "      background-color: #434B5C;\n",
              "      box-shadow: 0px 1px 3px 1px rgba(0, 0, 0, 0.15);\n",
              "      filter: drop-shadow(0px 1px 2px rgba(0, 0, 0, 0.3));\n",
              "      fill: #FFFFFF;\n",
              "    }\n",
              "  </style>\n",
              "\n",
              "    <script>\n",
              "      const buttonEl =\n",
              "        document.querySelector('#df-45a7bcac-40ec-4887-8933-60d5952492f5 button.colab-df-convert');\n",
              "      buttonEl.style.display =\n",
              "        google.colab.kernel.accessAllowed ? 'block' : 'none';\n",
              "\n",
              "      async function convertToInteractive(key) {\n",
              "        const element = document.querySelector('#df-45a7bcac-40ec-4887-8933-60d5952492f5');\n",
              "        const dataTable =\n",
              "          await google.colab.kernel.invokeFunction('convertToInteractive',\n",
              "                                                    [key], {});\n",
              "        if (!dataTable) return;\n",
              "\n",
              "        const docLinkHtml = 'Like what you see? Visit the ' +\n",
              "          '<a target=\"_blank\" href=https://colab.research.google.com/notebooks/data_table.ipynb>data table notebook</a>'\n",
              "          + ' to learn more about interactive tables.';\n",
              "        element.innerHTML = '';\n",
              "        dataTable['output_type'] = 'display_data';\n",
              "        await google.colab.output.renderOutput(dataTable, element);\n",
              "        const docLink = document.createElement('div');\n",
              "        docLink.innerHTML = docLinkHtml;\n",
              "        element.appendChild(docLink);\n",
              "      }\n",
              "    </script>\n",
              "  </div>\n",
              "\n",
              "\n",
              "<div id=\"df-af79b770-b92e-4315-9e24-04443ec94260\">\n",
              "  <button class=\"colab-df-quickchart\" onclick=\"quickchart('df-af79b770-b92e-4315-9e24-04443ec94260')\"\n",
              "            title=\"Suggest charts.\"\n",
              "            style=\"display:none;\">\n",
              "\n",
              "<svg xmlns=\"http://www.w3.org/2000/svg\" height=\"24px\"viewBox=\"0 0 24 24\"\n",
              "     width=\"24px\">\n",
              "    <g>\n",
              "        <path d=\"M19 3H5c-1.1 0-2 .9-2 2v14c0 1.1.9 2 2 2h14c1.1 0 2-.9 2-2V5c0-1.1-.9-2-2-2zM9 17H7v-7h2v7zm4 0h-2V7h2v10zm4 0h-2v-4h2v4z\"/>\n",
              "    </g>\n",
              "</svg>\n",
              "  </button>\n",
              "\n",
              "<style>\n",
              "  .colab-df-quickchart {\n",
              "      --bg-color: #E8F0FE;\n",
              "      --fill-color: #1967D2;\n",
              "      --hover-bg-color: #E2EBFA;\n",
              "      --hover-fill-color: #174EA6;\n",
              "      --disabled-fill-color: #AAA;\n",
              "      --disabled-bg-color: #DDD;\n",
              "  }\n",
              "\n",
              "  [theme=dark] .colab-df-quickchart {\n",
              "      --bg-color: #3B4455;\n",
              "      --fill-color: #D2E3FC;\n",
              "      --hover-bg-color: #434B5C;\n",
              "      --hover-fill-color: #FFFFFF;\n",
              "      --disabled-bg-color: #3B4455;\n",
              "      --disabled-fill-color: #666;\n",
              "  }\n",
              "\n",
              "  .colab-df-quickchart {\n",
              "    background-color: var(--bg-color);\n",
              "    border: none;\n",
              "    border-radius: 50%;\n",
              "    cursor: pointer;\n",
              "    display: none;\n",
              "    fill: var(--fill-color);\n",
              "    height: 32px;\n",
              "    padding: 0;\n",
              "    width: 32px;\n",
              "  }\n",
              "\n",
              "  .colab-df-quickchart:hover {\n",
              "    background-color: var(--hover-bg-color);\n",
              "    box-shadow: 0 1px 2px rgba(60, 64, 67, 0.3), 0 1px 3px 1px rgba(60, 64, 67, 0.15);\n",
              "    fill: var(--button-hover-fill-color);\n",
              "  }\n",
              "\n",
              "  .colab-df-quickchart-complete:disabled,\n",
              "  .colab-df-quickchart-complete:disabled:hover {\n",
              "    background-color: var(--disabled-bg-color);\n",
              "    fill: var(--disabled-fill-color);\n",
              "    box-shadow: none;\n",
              "  }\n",
              "\n",
              "  .colab-df-spinner {\n",
              "    border: 2px solid var(--fill-color);\n",
              "    border-color: transparent;\n",
              "    border-bottom-color: var(--fill-color);\n",
              "    animation:\n",
              "      spin 1s steps(1) infinite;\n",
              "  }\n",
              "\n",
              "  @keyframes spin {\n",
              "    0% {\n",
              "      border-color: transparent;\n",
              "      border-bottom-color: var(--fill-color);\n",
              "      border-left-color: var(--fill-color);\n",
              "    }\n",
              "    20% {\n",
              "      border-color: transparent;\n",
              "      border-left-color: var(--fill-color);\n",
              "      border-top-color: var(--fill-color);\n",
              "    }\n",
              "    30% {\n",
              "      border-color: transparent;\n",
              "      border-left-color: var(--fill-color);\n",
              "      border-top-color: var(--fill-color);\n",
              "      border-right-color: var(--fill-color);\n",
              "    }\n",
              "    40% {\n",
              "      border-color: transparent;\n",
              "      border-right-color: var(--fill-color);\n",
              "      border-top-color: var(--fill-color);\n",
              "    }\n",
              "    60% {\n",
              "      border-color: transparent;\n",
              "      border-right-color: var(--fill-color);\n",
              "    }\n",
              "    80% {\n",
              "      border-color: transparent;\n",
              "      border-right-color: var(--fill-color);\n",
              "      border-bottom-color: var(--fill-color);\n",
              "    }\n",
              "    90% {\n",
              "      border-color: transparent;\n",
              "      border-bottom-color: var(--fill-color);\n",
              "    }\n",
              "  }\n",
              "</style>\n",
              "\n",
              "  <script>\n",
              "    async function quickchart(key) {\n",
              "      const quickchartButtonEl =\n",
              "        document.querySelector('#' + key + ' button');\n",
              "      quickchartButtonEl.disabled = true;  // To prevent multiple clicks.\n",
              "      quickchartButtonEl.classList.add('colab-df-spinner');\n",
              "      try {\n",
              "        const charts = await google.colab.kernel.invokeFunction(\n",
              "            'suggestCharts', [key], {});\n",
              "      } catch (error) {\n",
              "        console.error('Error during call to suggestCharts:', error);\n",
              "      }\n",
              "      quickchartButtonEl.classList.remove('colab-df-spinner');\n",
              "      quickchartButtonEl.classList.add('colab-df-quickchart-complete');\n",
              "    }\n",
              "    (() => {\n",
              "      let quickchartButtonEl =\n",
              "        document.querySelector('#df-af79b770-b92e-4315-9e24-04443ec94260 button');\n",
              "      quickchartButtonEl.style.display =\n",
              "        google.colab.kernel.accessAllowed ? 'block' : 'none';\n",
              "    })();\n",
              "  </script>\n",
              "</div>\n",
              "    </div>\n",
              "  </div>\n"
            ]
          },
          "metadata": {},
          "execution_count": 3
        }
      ]
    },
    {
      "cell_type": "code",
      "execution_count": null,
      "metadata": {
        "id": "TFsIm4TwMgWb",
        "colab": {
          "base_uri": "https://localhost:8080/"
        },
        "outputId": "0a80a769-417f-41da-d07a-bce6b6f55367"
      },
      "outputs": [
        {
          "output_type": "stream",
          "name": "stdout",
          "text": [
            "<class 'pandas.core.frame.DataFrame'>\n",
            "RangeIndex: 10127 entries, 0 to 10126\n",
            "Data columns (total 21 columns):\n",
            " #   Column                    Non-Null Count  Dtype  \n",
            "---  ------                    --------------  -----  \n",
            " 0   CLIENTNUM                 10127 non-null  int64  \n",
            " 1   Attrition_Flag            10127 non-null  object \n",
            " 2   Customer_Age              10127 non-null  int64  \n",
            " 3   Gender                    10127 non-null  object \n",
            " 4   Dependent_count           10127 non-null  int64  \n",
            " 5   Education_Level           10127 non-null  object \n",
            " 6   Marital_Status            10127 non-null  object \n",
            " 7   Income_Category           10127 non-null  object \n",
            " 8   Card_Category             10127 non-null  object \n",
            " 9   Months_on_book            10127 non-null  int64  \n",
            " 10  Total_Relationship_Count  10127 non-null  int64  \n",
            " 11  Months_Inactive_12_mon    10127 non-null  int64  \n",
            " 12  Contacts_Count_12_mon     10127 non-null  int64  \n",
            " 13  Credit_Limit              10127 non-null  float64\n",
            " 14  Total_Revolving_Bal       10127 non-null  int64  \n",
            " 15  Avg_Open_To_Buy           10127 non-null  float64\n",
            " 16  Total_Amt_Chng_Q4_Q1      10127 non-null  float64\n",
            " 17  Total_Trans_Amt           10127 non-null  int64  \n",
            " 18  Total_Trans_Ct            10127 non-null  int64  \n",
            " 19  Total_Ct_Chng_Q4_Q1       10127 non-null  float64\n",
            " 20  Avg_Utilization_Ratio     10127 non-null  float64\n",
            "dtypes: float64(5), int64(10), object(6)\n",
            "memory usage: 1.6+ MB\n"
          ]
        }
      ],
      "source": [
        "## Describing the dataset\n",
        "df.info()"
      ]
    },
    {
      "cell_type": "code",
      "source": [
        "print(\"The dataset has\",df.shape[1],\"columns and\",df.shape[0], \"rows\")"
      ],
      "metadata": {
        "colab": {
          "base_uri": "https://localhost:8080/"
        },
        "id": "Dats-QX4waTR",
        "outputId": "23c559e8-c294-4429-be4b-fe35f6c108a9"
      },
      "execution_count": null,
      "outputs": [
        {
          "output_type": "stream",
          "name": "stdout",
          "text": [
            "The dataset has 21 columns and 10127 rows\n"
          ]
        }
      ]
    },
    {
      "cell_type": "code",
      "source": [
        "df.columns"
      ],
      "metadata": {
        "colab": {
          "base_uri": "https://localhost:8080/"
        },
        "id": "Ilh2wSMXvjfg",
        "outputId": "2f005b2b-5121-4359-8acc-d04cc9106eb3"
      },
      "execution_count": null,
      "outputs": [
        {
          "output_type": "execute_result",
          "data": {
            "text/plain": [
              "Index(['CLIENTNUM', 'Attrition_Flag', 'Customer_Age', 'Gender',\n",
              "       'Dependent_count', 'Education_Level', 'Marital_Status',\n",
              "       'Income_Category', 'Card_Category', 'Months_on_book',\n",
              "       'Total_Relationship_Count', 'Months_Inactive_12_mon',\n",
              "       'Contacts_Count_12_mon', 'Credit_Limit', 'Total_Revolving_Bal',\n",
              "       'Avg_Open_To_Buy', 'Total_Amt_Chng_Q4_Q1', 'Total_Trans_Amt',\n",
              "       'Total_Trans_Ct', 'Total_Ct_Chng_Q4_Q1', 'Avg_Utilization_Ratio'],\n",
              "      dtype='object')"
            ]
          },
          "metadata": {},
          "execution_count": 21
        }
      ]
    },
    {
      "cell_type": "markdown",
      "source": [
        "## Cleaning the data\n",
        "\n"
      ],
      "metadata": {
        "id": "h328UmNJNcuY"
      }
    },
    {
      "cell_type": "code",
      "source": [
        "## Checking for missing values\n",
        "missing_values = df.isnull().sum()\n",
        "missing_values"
      ],
      "metadata": {
        "id": "LVH1SnqFNnIQ",
        "colab": {
          "base_uri": "https://localhost:8080/"
        },
        "outputId": "749528e9-bcda-436c-93b3-b66f053aa684"
      },
      "execution_count": null,
      "outputs": [
        {
          "output_type": "execute_result",
          "data": {
            "text/plain": [
              "CLIENTNUM                   0\n",
              "Attrition_Flag              0\n",
              "Customer_Age                0\n",
              "Gender                      0\n",
              "Dependent_count             0\n",
              "Education_Level             0\n",
              "Marital_Status              0\n",
              "Income_Category             0\n",
              "Card_Category               0\n",
              "Months_on_book              0\n",
              "Total_Relationship_Count    0\n",
              "Months_Inactive_12_mon      0\n",
              "Contacts_Count_12_mon       0\n",
              "Credit_Limit                0\n",
              "Total_Revolving_Bal         0\n",
              "Avg_Open_To_Buy             0\n",
              "Total_Amt_Chng_Q4_Q1        0\n",
              "Total_Trans_Amt             0\n",
              "Total_Trans_Ct              0\n",
              "Total_Ct_Chng_Q4_Q1         0\n",
              "Avg_Utilization_Ratio       0\n",
              "dtype: int64"
            ]
          },
          "metadata": {},
          "execution_count": 16
        }
      ]
    },
    {
      "cell_type": "markdown",
      "source": [
        "There are no missing values in the dataset."
      ],
      "metadata": {
        "id": "NdKRLjxSt2Zz"
      }
    },
    {
      "cell_type": "code",
      "source": [
        "#checking for duplicates in CLIENTNUM column\n",
        "duplicates = df.duplicated().sum()\n",
        "duplicates"
      ],
      "metadata": {
        "colab": {
          "base_uri": "https://localhost:8080/"
        },
        "id": "QhhxoYO2uEeS",
        "outputId": "4ec13e86-8ab1-4f94-fee8-851dd7fc2fad"
      },
      "execution_count": null,
      "outputs": [
        {
          "output_type": "execute_result",
          "data": {
            "text/plain": [
              "0"
            ]
          },
          "metadata": {},
          "execution_count": 18
        }
      ]
    },
    {
      "cell_type": "markdown",
      "source": [
        "There're no duplicate values in the dataset."
      ],
      "metadata": {
        "id": "_98BsHqSu7Ro"
      }
    },
    {
      "cell_type": "markdown",
      "source": [
        "## Analysing the data\n",
        "\n",
        "---\n",
        "Let's have a closer look at the attrited customers.\n"
      ],
      "metadata": {
        "id": "e5AW4rIFNqcf"
      }
    },
    {
      "cell_type": "markdown",
      "source": [
        "Filter out the attrited customers and display summary statistics."
      ],
      "metadata": {
        "id": "hFJuGbFyp3oS"
      }
    },
    {
      "cell_type": "code",
      "source": [
        "attrited = df[df['Attrition_Flag'] == \"Attrited Customer\"]\n",
        "attrited.describe()"
      ],
      "metadata": {
        "colab": {
          "base_uri": "https://localhost:8080/",
          "height": 320
        },
        "id": "mcHM8IM0p2gm",
        "outputId": "bb4309d1-0d2a-4ed3-e855-03b2be7a1501"
      },
      "execution_count": null,
      "outputs": [
        {
          "output_type": "execute_result",
          "data": {
            "text/plain": [
              "          CLIENTNUM  Customer_Age  Dependent_count  Months_on_book  \\\n",
              "count  1.627000e+03   1627.000000      1627.000000     1627.000000   \n",
              "mean   7.352614e+08     46.659496         2.402581       36.178242   \n",
              "std    3.557725e+07      7.665652         1.275010        7.796548   \n",
              "min    7.080833e+08     26.000000         0.000000       13.000000   \n",
              "25%    7.123713e+08     41.000000         2.000000       32.000000   \n",
              "50%    7.165644e+08     47.000000         2.000000       36.000000   \n",
              "75%    7.683737e+08     52.000000         3.000000       40.000000   \n",
              "max    8.282949e+08     68.000000         5.000000       56.000000   \n",
              "\n",
              "       Total_Relationship_Count  Months_Inactive_12_mon  \\\n",
              "count               1627.000000             1627.000000   \n",
              "mean                   3.279656                2.693301   \n",
              "std                    1.577782                0.899623   \n",
              "min                    1.000000                0.000000   \n",
              "25%                    2.000000                2.000000   \n",
              "50%                    3.000000                3.000000   \n",
              "75%                    5.000000                3.000000   \n",
              "max                    6.000000                6.000000   \n",
              "\n",
              "       Contacts_Count_12_mon  Credit_Limit  Total_Revolving_Bal  \\\n",
              "count            1627.000000   1627.000000          1627.000000   \n",
              "mean                2.972342   8136.039459           672.822987   \n",
              "std                 1.090537   9095.334105           921.385582   \n",
              "min                 0.000000   1438.300000             0.000000   \n",
              "25%                 2.000000   2114.000000             0.000000   \n",
              "50%                 3.000000   4178.000000             0.000000   \n",
              "75%                 4.000000   9933.500000          1303.500000   \n",
              "max                 6.000000  34516.000000          2517.000000   \n",
              "\n",
              "       Avg_Open_To_Buy  Total_Amt_Chng_Q4_Q1  Total_Trans_Amt  Total_Trans_Ct  \\\n",
              "count      1627.000000           1627.000000      1627.000000     1627.000000   \n",
              "mean       7463.216472              0.694277      3095.025814       44.933620   \n",
              "std        9109.208129              0.214924      2308.227629       14.568429   \n",
              "min           3.000000              0.000000       510.000000       10.000000   \n",
              "25%        1587.000000              0.544500      1903.500000       37.000000   \n",
              "50%        3488.000000              0.701000      2329.000000       43.000000   \n",
              "75%        9257.500000              0.856000      2772.000000       51.000000   \n",
              "max       34516.000000              1.492000     10583.000000       94.000000   \n",
              "\n",
              "       Total_Ct_Chng_Q4_Q1  Avg_Utilization_Ratio  \n",
              "count          1627.000000            1627.000000  \n",
              "mean              0.554386               0.162475  \n",
              "std               0.226854               0.264458  \n",
              "min               0.000000               0.000000  \n",
              "25%               0.400000               0.000000  \n",
              "50%               0.531000               0.000000  \n",
              "75%               0.692000               0.231000  \n",
              "max               2.500000               0.999000  "
            ],
            "text/html": [
              "\n",
              "  <div id=\"df-6cf2a3cd-ac2d-4785-b080-8acea5e71b76\" class=\"colab-df-container\">\n",
              "    <div>\n",
              "<style scoped>\n",
              "    .dataframe tbody tr th:only-of-type {\n",
              "        vertical-align: middle;\n",
              "    }\n",
              "\n",
              "    .dataframe tbody tr th {\n",
              "        vertical-align: top;\n",
              "    }\n",
              "\n",
              "    .dataframe thead th {\n",
              "        text-align: right;\n",
              "    }\n",
              "</style>\n",
              "<table border=\"1\" class=\"dataframe\">\n",
              "  <thead>\n",
              "    <tr style=\"text-align: right;\">\n",
              "      <th></th>\n",
              "      <th>CLIENTNUM</th>\n",
              "      <th>Customer_Age</th>\n",
              "      <th>Dependent_count</th>\n",
              "      <th>Months_on_book</th>\n",
              "      <th>Total_Relationship_Count</th>\n",
              "      <th>Months_Inactive_12_mon</th>\n",
              "      <th>Contacts_Count_12_mon</th>\n",
              "      <th>Credit_Limit</th>\n",
              "      <th>Total_Revolving_Bal</th>\n",
              "      <th>Avg_Open_To_Buy</th>\n",
              "      <th>Total_Amt_Chng_Q4_Q1</th>\n",
              "      <th>Total_Trans_Amt</th>\n",
              "      <th>Total_Trans_Ct</th>\n",
              "      <th>Total_Ct_Chng_Q4_Q1</th>\n",
              "      <th>Avg_Utilization_Ratio</th>\n",
              "    </tr>\n",
              "  </thead>\n",
              "  <tbody>\n",
              "    <tr>\n",
              "      <th>count</th>\n",
              "      <td>1.627000e+03</td>\n",
              "      <td>1627.000000</td>\n",
              "      <td>1627.000000</td>\n",
              "      <td>1627.000000</td>\n",
              "      <td>1627.000000</td>\n",
              "      <td>1627.000000</td>\n",
              "      <td>1627.000000</td>\n",
              "      <td>1627.000000</td>\n",
              "      <td>1627.000000</td>\n",
              "      <td>1627.000000</td>\n",
              "      <td>1627.000000</td>\n",
              "      <td>1627.000000</td>\n",
              "      <td>1627.000000</td>\n",
              "      <td>1627.000000</td>\n",
              "      <td>1627.000000</td>\n",
              "    </tr>\n",
              "    <tr>\n",
              "      <th>mean</th>\n",
              "      <td>7.352614e+08</td>\n",
              "      <td>46.659496</td>\n",
              "      <td>2.402581</td>\n",
              "      <td>36.178242</td>\n",
              "      <td>3.279656</td>\n",
              "      <td>2.693301</td>\n",
              "      <td>2.972342</td>\n",
              "      <td>8136.039459</td>\n",
              "      <td>672.822987</td>\n",
              "      <td>7463.216472</td>\n",
              "      <td>0.694277</td>\n",
              "      <td>3095.025814</td>\n",
              "      <td>44.933620</td>\n",
              "      <td>0.554386</td>\n",
              "      <td>0.162475</td>\n",
              "    </tr>\n",
              "    <tr>\n",
              "      <th>std</th>\n",
              "      <td>3.557725e+07</td>\n",
              "      <td>7.665652</td>\n",
              "      <td>1.275010</td>\n",
              "      <td>7.796548</td>\n",
              "      <td>1.577782</td>\n",
              "      <td>0.899623</td>\n",
              "      <td>1.090537</td>\n",
              "      <td>9095.334105</td>\n",
              "      <td>921.385582</td>\n",
              "      <td>9109.208129</td>\n",
              "      <td>0.214924</td>\n",
              "      <td>2308.227629</td>\n",
              "      <td>14.568429</td>\n",
              "      <td>0.226854</td>\n",
              "      <td>0.264458</td>\n",
              "    </tr>\n",
              "    <tr>\n",
              "      <th>min</th>\n",
              "      <td>7.080833e+08</td>\n",
              "      <td>26.000000</td>\n",
              "      <td>0.000000</td>\n",
              "      <td>13.000000</td>\n",
              "      <td>1.000000</td>\n",
              "      <td>0.000000</td>\n",
              "      <td>0.000000</td>\n",
              "      <td>1438.300000</td>\n",
              "      <td>0.000000</td>\n",
              "      <td>3.000000</td>\n",
              "      <td>0.000000</td>\n",
              "      <td>510.000000</td>\n",
              "      <td>10.000000</td>\n",
              "      <td>0.000000</td>\n",
              "      <td>0.000000</td>\n",
              "    </tr>\n",
              "    <tr>\n",
              "      <th>25%</th>\n",
              "      <td>7.123713e+08</td>\n",
              "      <td>41.000000</td>\n",
              "      <td>2.000000</td>\n",
              "      <td>32.000000</td>\n",
              "      <td>2.000000</td>\n",
              "      <td>2.000000</td>\n",
              "      <td>2.000000</td>\n",
              "      <td>2114.000000</td>\n",
              "      <td>0.000000</td>\n",
              "      <td>1587.000000</td>\n",
              "      <td>0.544500</td>\n",
              "      <td>1903.500000</td>\n",
              "      <td>37.000000</td>\n",
              "      <td>0.400000</td>\n",
              "      <td>0.000000</td>\n",
              "    </tr>\n",
              "    <tr>\n",
              "      <th>50%</th>\n",
              "      <td>7.165644e+08</td>\n",
              "      <td>47.000000</td>\n",
              "      <td>2.000000</td>\n",
              "      <td>36.000000</td>\n",
              "      <td>3.000000</td>\n",
              "      <td>3.000000</td>\n",
              "      <td>3.000000</td>\n",
              "      <td>4178.000000</td>\n",
              "      <td>0.000000</td>\n",
              "      <td>3488.000000</td>\n",
              "      <td>0.701000</td>\n",
              "      <td>2329.000000</td>\n",
              "      <td>43.000000</td>\n",
              "      <td>0.531000</td>\n",
              "      <td>0.000000</td>\n",
              "    </tr>\n",
              "    <tr>\n",
              "      <th>75%</th>\n",
              "      <td>7.683737e+08</td>\n",
              "      <td>52.000000</td>\n",
              "      <td>3.000000</td>\n",
              "      <td>40.000000</td>\n",
              "      <td>5.000000</td>\n",
              "      <td>3.000000</td>\n",
              "      <td>4.000000</td>\n",
              "      <td>9933.500000</td>\n",
              "      <td>1303.500000</td>\n",
              "      <td>9257.500000</td>\n",
              "      <td>0.856000</td>\n",
              "      <td>2772.000000</td>\n",
              "      <td>51.000000</td>\n",
              "      <td>0.692000</td>\n",
              "      <td>0.231000</td>\n",
              "    </tr>\n",
              "    <tr>\n",
              "      <th>max</th>\n",
              "      <td>8.282949e+08</td>\n",
              "      <td>68.000000</td>\n",
              "      <td>5.000000</td>\n",
              "      <td>56.000000</td>\n",
              "      <td>6.000000</td>\n",
              "      <td>6.000000</td>\n",
              "      <td>6.000000</td>\n",
              "      <td>34516.000000</td>\n",
              "      <td>2517.000000</td>\n",
              "      <td>34516.000000</td>\n",
              "      <td>1.492000</td>\n",
              "      <td>10583.000000</td>\n",
              "      <td>94.000000</td>\n",
              "      <td>2.500000</td>\n",
              "      <td>0.999000</td>\n",
              "    </tr>\n",
              "  </tbody>\n",
              "</table>\n",
              "</div>\n",
              "    <div class=\"colab-df-buttons\">\n",
              "\n",
              "  <div class=\"colab-df-container\">\n",
              "    <button class=\"colab-df-convert\" onclick=\"convertToInteractive('df-6cf2a3cd-ac2d-4785-b080-8acea5e71b76')\"\n",
              "            title=\"Convert this dataframe to an interactive table.\"\n",
              "            style=\"display:none;\">\n",
              "\n",
              "  <svg xmlns=\"http://www.w3.org/2000/svg\" height=\"24px\" viewBox=\"0 -960 960 960\">\n",
              "    <path d=\"M120-120v-720h720v720H120Zm60-500h600v-160H180v160Zm220 220h160v-160H400v160Zm0 220h160v-160H400v160ZM180-400h160v-160H180v160Zm440 0h160v-160H620v160ZM180-180h160v-160H180v160Zm440 0h160v-160H620v160Z\"/>\n",
              "  </svg>\n",
              "    </button>\n",
              "\n",
              "  <style>\n",
              "    .colab-df-container {\n",
              "      display:flex;\n",
              "      gap: 12px;\n",
              "    }\n",
              "\n",
              "    .colab-df-convert {\n",
              "      background-color: #E8F0FE;\n",
              "      border: none;\n",
              "      border-radius: 50%;\n",
              "      cursor: pointer;\n",
              "      display: none;\n",
              "      fill: #1967D2;\n",
              "      height: 32px;\n",
              "      padding: 0 0 0 0;\n",
              "      width: 32px;\n",
              "    }\n",
              "\n",
              "    .colab-df-convert:hover {\n",
              "      background-color: #E2EBFA;\n",
              "      box-shadow: 0px 1px 2px rgba(60, 64, 67, 0.3), 0px 1px 3px 1px rgba(60, 64, 67, 0.15);\n",
              "      fill: #174EA6;\n",
              "    }\n",
              "\n",
              "    .colab-df-buttons div {\n",
              "      margin-bottom: 4px;\n",
              "    }\n",
              "\n",
              "    [theme=dark] .colab-df-convert {\n",
              "      background-color: #3B4455;\n",
              "      fill: #D2E3FC;\n",
              "    }\n",
              "\n",
              "    [theme=dark] .colab-df-convert:hover {\n",
              "      background-color: #434B5C;\n",
              "      box-shadow: 0px 1px 3px 1px rgba(0, 0, 0, 0.15);\n",
              "      filter: drop-shadow(0px 1px 2px rgba(0, 0, 0, 0.3));\n",
              "      fill: #FFFFFF;\n",
              "    }\n",
              "  </style>\n",
              "\n",
              "    <script>\n",
              "      const buttonEl =\n",
              "        document.querySelector('#df-6cf2a3cd-ac2d-4785-b080-8acea5e71b76 button.colab-df-convert');\n",
              "      buttonEl.style.display =\n",
              "        google.colab.kernel.accessAllowed ? 'block' : 'none';\n",
              "\n",
              "      async function convertToInteractive(key) {\n",
              "        const element = document.querySelector('#df-6cf2a3cd-ac2d-4785-b080-8acea5e71b76');\n",
              "        const dataTable =\n",
              "          await google.colab.kernel.invokeFunction('convertToInteractive',\n",
              "                                                    [key], {});\n",
              "        if (!dataTable) return;\n",
              "\n",
              "        const docLinkHtml = 'Like what you see? Visit the ' +\n",
              "          '<a target=\"_blank\" href=https://colab.research.google.com/notebooks/data_table.ipynb>data table notebook</a>'\n",
              "          + ' to learn more about interactive tables.';\n",
              "        element.innerHTML = '';\n",
              "        dataTable['output_type'] = 'display_data';\n",
              "        await google.colab.output.renderOutput(dataTable, element);\n",
              "        const docLink = document.createElement('div');\n",
              "        docLink.innerHTML = docLinkHtml;\n",
              "        element.appendChild(docLink);\n",
              "      }\n",
              "    </script>\n",
              "  </div>\n",
              "\n",
              "\n",
              "<div id=\"df-6f4c6174-88a7-48aa-9444-6430ac0eb33e\">\n",
              "  <button class=\"colab-df-quickchart\" onclick=\"quickchart('df-6f4c6174-88a7-48aa-9444-6430ac0eb33e')\"\n",
              "            title=\"Suggest charts.\"\n",
              "            style=\"display:none;\">\n",
              "\n",
              "<svg xmlns=\"http://www.w3.org/2000/svg\" height=\"24px\"viewBox=\"0 0 24 24\"\n",
              "     width=\"24px\">\n",
              "    <g>\n",
              "        <path d=\"M19 3H5c-1.1 0-2 .9-2 2v14c0 1.1.9 2 2 2h14c1.1 0 2-.9 2-2V5c0-1.1-.9-2-2-2zM9 17H7v-7h2v7zm4 0h-2V7h2v10zm4 0h-2v-4h2v4z\"/>\n",
              "    </g>\n",
              "</svg>\n",
              "  </button>\n",
              "\n",
              "<style>\n",
              "  .colab-df-quickchart {\n",
              "      --bg-color: #E8F0FE;\n",
              "      --fill-color: #1967D2;\n",
              "      --hover-bg-color: #E2EBFA;\n",
              "      --hover-fill-color: #174EA6;\n",
              "      --disabled-fill-color: #AAA;\n",
              "      --disabled-bg-color: #DDD;\n",
              "  }\n",
              "\n",
              "  [theme=dark] .colab-df-quickchart {\n",
              "      --bg-color: #3B4455;\n",
              "      --fill-color: #D2E3FC;\n",
              "      --hover-bg-color: #434B5C;\n",
              "      --hover-fill-color: #FFFFFF;\n",
              "      --disabled-bg-color: #3B4455;\n",
              "      --disabled-fill-color: #666;\n",
              "  }\n",
              "\n",
              "  .colab-df-quickchart {\n",
              "    background-color: var(--bg-color);\n",
              "    border: none;\n",
              "    border-radius: 50%;\n",
              "    cursor: pointer;\n",
              "    display: none;\n",
              "    fill: var(--fill-color);\n",
              "    height: 32px;\n",
              "    padding: 0;\n",
              "    width: 32px;\n",
              "  }\n",
              "\n",
              "  .colab-df-quickchart:hover {\n",
              "    background-color: var(--hover-bg-color);\n",
              "    box-shadow: 0 1px 2px rgba(60, 64, 67, 0.3), 0 1px 3px 1px rgba(60, 64, 67, 0.15);\n",
              "    fill: var(--button-hover-fill-color);\n",
              "  }\n",
              "\n",
              "  .colab-df-quickchart-complete:disabled,\n",
              "  .colab-df-quickchart-complete:disabled:hover {\n",
              "    background-color: var(--disabled-bg-color);\n",
              "    fill: var(--disabled-fill-color);\n",
              "    box-shadow: none;\n",
              "  }\n",
              "\n",
              "  .colab-df-spinner {\n",
              "    border: 2px solid var(--fill-color);\n",
              "    border-color: transparent;\n",
              "    border-bottom-color: var(--fill-color);\n",
              "    animation:\n",
              "      spin 1s steps(1) infinite;\n",
              "  }\n",
              "\n",
              "  @keyframes spin {\n",
              "    0% {\n",
              "      border-color: transparent;\n",
              "      border-bottom-color: var(--fill-color);\n",
              "      border-left-color: var(--fill-color);\n",
              "    }\n",
              "    20% {\n",
              "      border-color: transparent;\n",
              "      border-left-color: var(--fill-color);\n",
              "      border-top-color: var(--fill-color);\n",
              "    }\n",
              "    30% {\n",
              "      border-color: transparent;\n",
              "      border-left-color: var(--fill-color);\n",
              "      border-top-color: var(--fill-color);\n",
              "      border-right-color: var(--fill-color);\n",
              "    }\n",
              "    40% {\n",
              "      border-color: transparent;\n",
              "      border-right-color: var(--fill-color);\n",
              "      border-top-color: var(--fill-color);\n",
              "    }\n",
              "    60% {\n",
              "      border-color: transparent;\n",
              "      border-right-color: var(--fill-color);\n",
              "    }\n",
              "    80% {\n",
              "      border-color: transparent;\n",
              "      border-right-color: var(--fill-color);\n",
              "      border-bottom-color: var(--fill-color);\n",
              "    }\n",
              "    90% {\n",
              "      border-color: transparent;\n",
              "      border-bottom-color: var(--fill-color);\n",
              "    }\n",
              "  }\n",
              "</style>\n",
              "\n",
              "  <script>\n",
              "    async function quickchart(key) {\n",
              "      const quickchartButtonEl =\n",
              "        document.querySelector('#' + key + ' button');\n",
              "      quickchartButtonEl.disabled = true;  // To prevent multiple clicks.\n",
              "      quickchartButtonEl.classList.add('colab-df-spinner');\n",
              "      try {\n",
              "        const charts = await google.colab.kernel.invokeFunction(\n",
              "            'suggestCharts', [key], {});\n",
              "      } catch (error) {\n",
              "        console.error('Error during call to suggestCharts:', error);\n",
              "      }\n",
              "      quickchartButtonEl.classList.remove('colab-df-spinner');\n",
              "      quickchartButtonEl.classList.add('colab-df-quickchart-complete');\n",
              "    }\n",
              "    (() => {\n",
              "      let quickchartButtonEl =\n",
              "        document.querySelector('#df-6f4c6174-88a7-48aa-9444-6430ac0eb33e button');\n",
              "      quickchartButtonEl.style.display =\n",
              "        google.colab.kernel.accessAllowed ? 'block' : 'none';\n",
              "    })();\n",
              "  </script>\n",
              "</div>\n",
              "    </div>\n",
              "  </div>\n"
            ]
          },
          "metadata": {},
          "execution_count": 66
        }
      ]
    },
    {
      "cell_type": "markdown",
      "source": [
        "The youngest and the oldest customers:"
      ],
      "metadata": {
        "id": "g0BjBaPR3-b-"
      }
    },
    {
      "cell_type": "code",
      "source": [
        "print(\"The youngest attrited customer was\", attrited[\"Customer_Age\"].min(),\"years old.\")\n",
        "print(\"The oldest attrited customer was\", attrited[\"Customer_Age\"].max(),\"years old\")"
      ],
      "metadata": {
        "colab": {
          "base_uri": "https://localhost:8080/"
        },
        "id": "zXfu9hAo4g8t",
        "outputId": "2ed99729-5095-4e42-e632-476c74ccb414"
      },
      "execution_count": null,
      "outputs": [
        {
          "output_type": "stream",
          "name": "stdout",
          "text": [
            "The youngest attrited customer was 26 years old.\n",
            "The oldest attrited customer was 68 years old\n"
          ]
        }
      ]
    },
    {
      "cell_type": "code",
      "source": [
        "plt.hist(attrited[\"Customer_Age\"], color = \"green\")\n",
        "plt.xlabel(\"Customer Age\")\n",
        "plt.show()"
      ],
      "metadata": {
        "colab": {
          "base_uri": "https://localhost:8080/",
          "height": 449
        },
        "id": "kQQs-FYxPMon",
        "outputId": "d71d4d46-5cdd-4491-caac-d55594fe9751"
      },
      "execution_count": null,
      "outputs": [
        {
          "output_type": "display_data",
          "data": {
            "text/plain": [
              "<Figure size 640x480 with 1 Axes>"
            ],
            "image/png": "[encoded data removed]"
          },
          "metadata": {}
        }
      ]
    },
    {
      "cell_type": "markdown",
      "source": [
        "From the above graph we can see that the customer ages in the dataset follows a normal distribution."
      ],
      "metadata": {
        "id": "8x3UYBYoPchf"
      }
    },
    {
      "cell_type": "markdown",
      "source": [
        "The education ranges for attrited customers:"
      ],
      "metadata": {
        "id": "LItG57La6bRH"
      }
    },
    {
      "cell_type": "code",
      "source": [
        "education_groups = attrited.groupby(\"Education_Level\")[\"CLIENTNUM\"].count()\n",
        "education_groups.sort_values(ascending = False)"
      ],
      "metadata": {
        "colab": {
          "base_uri": "https://localhost:8080/"
        },
        "id": "RAFFJgJ66jRE",
        "outputId": "d80e80e8-2944-472f-90b5-785e01db16f9"
      },
      "execution_count": null,
      "outputs": [
        {
          "output_type": "execute_result",
          "data": {
            "text/plain": [
              "Education_Level\n",
              "Graduate         487\n",
              "High School      306\n",
              "Unknown          256\n",
              "Uneducated       237\n",
              "College          154\n",
              "Doctorate         95\n",
              "Post-Graduate     92\n",
              "Name: CLIENTNUM, dtype: int64"
            ]
          },
          "metadata": {},
          "execution_count": 76
        }
      ]
    },
    {
      "cell_type": "markdown",
      "source": [
        "The majority of the attrited customers has graduate degrees, and the smallest group of the attrited customers has post-graduate degrees. There's a group of 256 clients for whom the education level is unknown."
      ],
      "metadata": {
        "id": "hO9FN9yG72bl"
      }
    },
    {
      "cell_type": "markdown",
      "source": [
        "Let's compare the education groups for both existing and attrited customers."
      ],
      "metadata": {
        "id": "Zhq8jqh08snS"
      }
    },
    {
      "cell_type": "code",
      "source": [
        "education_groups_by_attrition = df.groupby([\"Attrition_Flag\",\"Education_Level\"])[\"CLIENTNUM\"].count()\n",
        "education_groups_by_attrition"
      ],
      "metadata": {
        "colab": {
          "base_uri": "https://localhost:8080/"
        },
        "id": "by0tTz-I9K8o",
        "outputId": "2710d2af-09d5-42c1-dc2f-4f3448bd359b"
      },
      "execution_count": null,
      "outputs": [
        {
          "output_type": "execute_result",
          "data": {
            "text/plain": [
              "Attrition_Flag     Education_Level\n",
              "Attrited Customer  College             154\n",
              "                   Doctorate            95\n",
              "                   Graduate            487\n",
              "                   High School         306\n",
              "                   Post-Graduate        92\n",
              "                   Uneducated          237\n",
              "                   Unknown             256\n",
              "Existing Customer  College             859\n",
              "                   Doctorate           356\n",
              "                   Graduate           2641\n",
              "                   High School        1707\n",
              "                   Post-Graduate       424\n",
              "                   Uneducated         1250\n",
              "                   Unknown            1263\n",
              "Name: CLIENTNUM, dtype: int64"
            ]
          },
          "metadata": {},
          "execution_count": 81
        }
      ]
    },
    {
      "cell_type": "markdown",
      "source": [
        "We can see the statistics for the existing customers is slightly different: the majority still falls into \"graduate\" category but the smallest group has \"doctorate\" level."
      ],
      "metadata": {
        "id": "gVLALfr1-Rp7"
      }
    },
    {
      "cell_type": "markdown",
      "source": [
        "Now let's display for how long the attrited customers had been with the bank before they left."
      ],
      "metadata": {
        "id": "Y2pFVglg_H9_"
      }
    },
    {
      "cell_type": "code",
      "source": [
        "print(\"The shortest period with the bank for an attrited customer is\" , attrited[\"Months_on_book\"].min(), \"months.\")\n",
        "print(\"The longest period with the bank among the attrited customers equals to\", attrited[\"Months_on_book\"].max(), \"months.\")"
      ],
      "metadata": {
        "colab": {
          "base_uri": "https://localhost:8080/"
        },
        "id": "P_nEiFBp_Ean",
        "outputId": "f0e25fb9-3dfd-42ec-f16e-330938345d0d"
      },
      "execution_count": null,
      "outputs": [
        {
          "output_type": "stream",
          "name": "stdout",
          "text": [
            "The shortest period with the bank for an attrited customer is 13 months.\n",
            "The longest period with the bank among the attrited customers equals to 56 months.\n"
          ]
        }
      ]
    },
    {
      "cell_type": "markdown",
      "source": [
        "Let's display the income groups for the attrited customers:"
      ],
      "metadata": {
        "id": "jTp3PxXyBoCF"
      }
    },
    {
      "cell_type": "code",
      "source": [
        "attrited.groupby([\"Income_Category\"])[\"CLIENTNUM\"].count()"
      ],
      "metadata": {
        "colab": {
          "base_uri": "https://localhost:8080/"
        },
        "id": "U9Ui3rDmAwOe",
        "outputId": "c66f545e-6ad1-48e0-9884-93047ac773b4"
      },
      "execution_count": null,
      "outputs": [
        {
          "output_type": "execute_result",
          "data": {
            "text/plain": [
              "Income_Category\n",
              "$120K +           126\n",
              "$40K - $60K       271\n",
              "$60K - $80K       189\n",
              "$80K - $120K      242\n",
              "Less than $40K    612\n",
              "Unknown           187\n",
              "Name: CLIENTNUM, dtype: int64"
            ]
          },
          "metadata": {},
          "execution_count": 90
        }
      ]
    },
    {
      "cell_type": "markdown",
      "source": [
        "Let's calculate the average period the customers of different income groups had spent with the bank before they left."
      ],
      "metadata": {
        "id": "X-BbWYZqC7VN"
      }
    },
    {
      "cell_type": "code",
      "source": [
        "df.groupby([\"Income_Category\"])[\"Months_on_book\"].mean()"
      ],
      "metadata": {
        "colab": {
          "base_uri": "https://localhost:8080/"
        },
        "id": "7LFzc-r9CS4J",
        "outputId": "ebaeab13-fee7-414e-e6f1-d60ab90edc75"
      },
      "execution_count": null,
      "outputs": [
        {
          "output_type": "execute_result",
          "data": {
            "text/plain": [
              "Income_Category\n",
              "$120K +           36.891334\n",
              "$40K - $60K       35.873184\n",
              "$60K - $80K       35.597004\n",
              "$80K - $120K      36.074267\n",
              "Less than $40K    35.881775\n",
              "Unknown           35.753597\n",
              "Name: Months_on_book, dtype: float64"
            ]
          },
          "metadata": {},
          "execution_count": 92
        }
      ]
    },
    {
      "cell_type": "markdown",
      "source": [
        "We can see that the average periods for all the income groups are very close one to another, which means there's no particular impact of the income level to the period, during which a particular customer stays with the bank."
      ],
      "metadata": {
        "id": "K6BBFO2bDVSl"
      }
    },
    {
      "cell_type": "markdown",
      "source": [
        "Let's analyse the credt card limits the attrited customers had"
      ],
      "metadata": {
        "id": "ICsWYRhvEyeU"
      }
    },
    {
      "cell_type": "code",
      "source": [
        "attrited.agg({\n",
        "    \"Credit_Limit\":[\"min\",\"max\"]\n",
        "    })"
      ],
      "metadata": {
        "colab": {
          "base_uri": "https://localhost:8080/",
          "height": 112
        },
        "id": "9iWul3GqGNa-",
        "outputId": "a990d9ce-beb5-4920-f2d1-4d52764ffa75"
      },
      "execution_count": null,
      "outputs": [
        {
          "output_type": "execute_result",
          "data": {
            "text/plain": [
              "     Credit_Limit\n",
              "min        1438.3\n",
              "max       34516.0"
            ],
            "text/html": [
              "\n",
              "  <div id=\"df-5523e04a-3665-4d83-a7f9-e7e48fe64522\" class=\"colab-df-container\">\n",
              "    <div>\n",
              "<style scoped>\n",
              "    .dataframe tbody tr th:only-of-type {\n",
              "        vertical-align: middle;\n",
              "    }\n",
              "\n",
              "    .dataframe tbody tr th {\n",
              "        vertical-align: top;\n",
              "    }\n",
              "\n",
              "    .dataframe thead th {\n",
              "        text-align: right;\n",
              "    }\n",
              "</style>\n",
              "<table border=\"1\" class=\"dataframe\">\n",
              "  <thead>\n",
              "    <tr style=\"text-align: right;\">\n",
              "      <th></th>\n",
              "      <th>Credit_Limit</th>\n",
              "    </tr>\n",
              "  </thead>\n",
              "  <tbody>\n",
              "    <tr>\n",
              "      <th>min</th>\n",
              "      <td>1438.3</td>\n",
              "    </tr>\n",
              "    <tr>\n",
              "      <th>max</th>\n",
              "      <td>34516.0</td>\n",
              "    </tr>\n",
              "  </tbody>\n",
              "</table>\n",
              "</div>\n",
              "    <div class=\"colab-df-buttons\">\n",
              "\n",
              "  <div class=\"colab-df-container\">\n",
              "    <button class=\"colab-df-convert\" onclick=\"convertToInteractive('df-5523e04a-3665-4d83-a7f9-e7e48fe64522')\"\n",
              "            title=\"Convert this dataframe to an interactive table.\"\n",
              "            style=\"display:none;\">\n",
              "\n",
              "  <svg xmlns=\"http://www.w3.org/2000/svg\" height=\"24px\" viewBox=\"0 -960 960 960\">\n",
              "    <path d=\"M120-120v-720h720v720H120Zm60-500h600v-160H180v160Zm220 220h160v-160H400v160Zm0 220h160v-160H400v160ZM180-400h160v-160H180v160Zm440 0h160v-160H620v160ZM180-180h160v-160H180v160Zm440 0h160v-160H620v160Z\"/>\n",
              "  </svg>\n",
              "    </button>\n",
              "\n",
              "  <style>\n",
              "    .colab-df-container {\n",
              "      display:flex;\n",
              "      gap: 12px;\n",
              "    }\n",
              "\n",
              "    .colab-df-convert {\n",
              "      background-color: #E8F0FE;\n",
              "      border: none;\n",
              "      border-radius: 50%;\n",
              "      cursor: pointer;\n",
              "      display: none;\n",
              "      fill: #1967D2;\n",
              "      height: 32px;\n",
              "      padding: 0 0 0 0;\n",
              "      width: 32px;\n",
              "    }\n",
              "\n",
              "    .colab-df-convert:hover {\n",
              "      background-color: #E2EBFA;\n",
              "      box-shadow: 0px 1px 2px rgba(60, 64, 67, 0.3), 0px 1px 3px 1px rgba(60, 64, 67, 0.15);\n",
              "      fill: #174EA6;\n",
              "    }\n",
              "\n",
              "    .colab-df-buttons div {\n",
              "      margin-bottom: 4px;\n",
              "    }\n",
              "\n",
              "    [theme=dark] .colab-df-convert {\n",
              "      background-color: #3B4455;\n",
              "      fill: #D2E3FC;\n",
              "    }\n",
              "\n",
              "    [theme=dark] .colab-df-convert:hover {\n",
              "      background-color: #434B5C;\n",
              "      box-shadow: 0px 1px 3px 1px rgba(0, 0, 0, 0.15);\n",
              "      filter: drop-shadow(0px 1px 2px rgba(0, 0, 0, 0.3));\n",
              "      fill: #FFFFFF;\n",
              "    }\n",
              "  </style>\n",
              "\n",
              "    <script>\n",
              "      const buttonEl =\n",
              "        document.querySelector('#df-5523e04a-3665-4d83-a7f9-e7e48fe64522 button.colab-df-convert');\n",
              "      buttonEl.style.display =\n",
              "        google.colab.kernel.accessAllowed ? 'block' : 'none';\n",
              "\n",
              "      async function convertToInteractive(key) {\n",
              "        const element = document.querySelector('#df-5523e04a-3665-4d83-a7f9-e7e48fe64522');\n",
              "        const dataTable =\n",
              "          await google.colab.kernel.invokeFunction('convertToInteractive',\n",
              "                                                    [key], {});\n",
              "        if (!dataTable) return;\n",
              "\n",
              "        const docLinkHtml = 'Like what you see? Visit the ' +\n",
              "          '<a target=\"_blank\" href=https://colab.research.google.com/notebooks/data_table.ipynb>data table notebook</a>'\n",
              "          + ' to learn more about interactive tables.';\n",
              "        element.innerHTML = '';\n",
              "        dataTable['output_type'] = 'display_data';\n",
              "        await google.colab.output.renderOutput(dataTable, element);\n",
              "        const docLink = document.createElement('div');\n",
              "        docLink.innerHTML = docLinkHtml;\n",
              "        element.appendChild(docLink);\n",
              "      }\n",
              "    </script>\n",
              "  </div>\n",
              "\n",
              "\n",
              "<div id=\"df-1ad53372-02e9-43b0-8841-d40a0cb49dbf\">\n",
              "  <button class=\"colab-df-quickchart\" onclick=\"quickchart('df-1ad53372-02e9-43b0-8841-d40a0cb49dbf')\"\n",
              "            title=\"Suggest charts.\"\n",
              "            style=\"display:none;\">\n",
              "\n",
              "<svg xmlns=\"http://www.w3.org/2000/svg\" height=\"24px\"viewBox=\"0 0 24 24\"\n",
              "     width=\"24px\">\n",
              "    <g>\n",
              "        <path d=\"M19 3H5c-1.1 0-2 .9-2 2v14c0 1.1.9 2 2 2h14c1.1 0 2-.9 2-2V5c0-1.1-.9-2-2-2zM9 17H7v-7h2v7zm4 0h-2V7h2v10zm4 0h-2v-4h2v4z\"/>\n",
              "    </g>\n",
              "</svg>\n",
              "  </button>\n",
              "\n",
              "<style>\n",
              "  .colab-df-quickchart {\n",
              "      --bg-color: #E8F0FE;\n",
              "      --fill-color: #1967D2;\n",
              "      --hover-bg-color: #E2EBFA;\n",
              "      --hover-fill-color: #174EA6;\n",
              "      --disabled-fill-color: #AAA;\n",
              "      --disabled-bg-color: #DDD;\n",
              "  }\n",
              "\n",
              "  [theme=dark] .colab-df-quickchart {\n",
              "      --bg-color: #3B4455;\n",
              "      --fill-color: #D2E3FC;\n",
              "      --hover-bg-color: #434B5C;\n",
              "      --hover-fill-color: #FFFFFF;\n",
              "      --disabled-bg-color: #3B4455;\n",
              "      --disabled-fill-color: #666;\n",
              "  }\n",
              "\n",
              "  .colab-df-quickchart {\n",
              "    background-color: var(--bg-color);\n",
              "    border: none;\n",
              "    border-radius: 50%;\n",
              "    cursor: pointer;\n",
              "    display: none;\n",
              "    fill: var(--fill-color);\n",
              "    height: 32px;\n",
              "    padding: 0;\n",
              "    width: 32px;\n",
              "  }\n",
              "\n",
              "  .colab-df-quickchart:hover {\n",
              "    background-color: var(--hover-bg-color);\n",
              "    box-shadow: 0 1px 2px rgba(60, 64, 67, 0.3), 0 1px 3px 1px rgba(60, 64, 67, 0.15);\n",
              "    fill: var(--button-hover-fill-color);\n",
              "  }\n",
              "\n",
              "  .colab-df-quickchart-complete:disabled,\n",
              "  .colab-df-quickchart-complete:disabled:hover {\n",
              "    background-color: var(--disabled-bg-color);\n",
              "    fill: var(--disabled-fill-color);\n",
              "    box-shadow: none;\n",
              "  }\n",
              "\n",
              "  .colab-df-spinner {\n",
              "    border: 2px solid var(--fill-color);\n",
              "    border-color: transparent;\n",
              "    border-bottom-color: var(--fill-color);\n",
              "    animation:\n",
              "      spin 1s steps(1) infinite;\n",
              "  }\n",
              "\n",
              "  @keyframes spin {\n",
              "    0% {\n",
              "      border-color: transparent;\n",
              "      border-bottom-color: var(--fill-color);\n",
              "      border-left-color: var(--fill-color);\n",
              "    }\n",
              "    20% {\n",
              "      border-color: transparent;\n",
              "      border-left-color: var(--fill-color);\n",
              "      border-top-color: var(--fill-color);\n",
              "    }\n",
              "    30% {\n",
              "      border-color: transparent;\n",
              "      border-left-color: var(--fill-color);\n",
              "      border-top-color: var(--fill-color);\n",
              "      border-right-color: var(--fill-color);\n",
              "    }\n",
              "    40% {\n",
              "      border-color: transparent;\n",
              "      border-right-color: var(--fill-color);\n",
              "      border-top-color: var(--fill-color);\n",
              "    }\n",
              "    60% {\n",
              "      border-color: transparent;\n",
              "      border-right-color: var(--fill-color);\n",
              "    }\n",
              "    80% {\n",
              "      border-color: transparent;\n",
              "      border-right-color: var(--fill-color);\n",
              "      border-bottom-color: var(--fill-color);\n",
              "    }\n",
              "    90% {\n",
              "      border-color: transparent;\n",
              "      border-bottom-color: var(--fill-color);\n",
              "    }\n",
              "  }\n",
              "</style>\n",
              "\n",
              "  <script>\n",
              "    async function quickchart(key) {\n",
              "      const quickchartButtonEl =\n",
              "        document.querySelector('#' + key + ' button');\n",
              "      quickchartButtonEl.disabled = true;  // To prevent multiple clicks.\n",
              "      quickchartButtonEl.classList.add('colab-df-spinner');\n",
              "      try {\n",
              "        const charts = await google.colab.kernel.invokeFunction(\n",
              "            'suggestCharts', [key], {});\n",
              "      } catch (error) {\n",
              "        console.error('Error during call to suggestCharts:', error);\n",
              "      }\n",
              "      quickchartButtonEl.classList.remove('colab-df-spinner');\n",
              "      quickchartButtonEl.classList.add('colab-df-quickchart-complete');\n",
              "    }\n",
              "    (() => {\n",
              "      let quickchartButtonEl =\n",
              "        document.querySelector('#df-1ad53372-02e9-43b0-8841-d40a0cb49dbf button');\n",
              "      quickchartButtonEl.style.display =\n",
              "        google.colab.kernel.accessAllowed ? 'block' : 'none';\n",
              "    })();\n",
              "  </script>\n",
              "</div>\n",
              "    </div>\n",
              "  </div>\n"
            ]
          },
          "metadata": {},
          "execution_count": 95
        }
      ]
    },
    {
      "cell_type": "markdown",
      "source": [
        "The smallest credit limit equals to $1438.3 and the largest limit is 34,516.0"
      ],
      "metadata": {
        "id": "NBYxu1feKh4A"
      }
    },
    {
      "cell_type": "code",
      "source": [
        "plt.hist(attrited[\"Credit_Limit\"], color = \"red\")\n",
        "plt.xlabel(\"Credit limits\")\n",
        "plt.show()"
      ],
      "metadata": {
        "colab": {
          "base_uri": "https://localhost:8080/",
          "height": 449
        },
        "id": "NfobHyFKLObv",
        "outputId": "d08b4797-4d2b-4c49-ecbb-1f83ac485874"
      },
      "execution_count": null,
      "outputs": [
        {
          "output_type": "display_data",
          "data": {
            "text/plain": [
              "<Figure size 640x480 with 1 Axes>"
            ],
            "image/png": "[encoded data removed]"
          },
          "metadata": {}
        }
      ]
    },
    {
      "cell_type": "markdown",
      "source": [
        "From the above chart we see that the majority of the credit limits of the attrited customers were less then $5000."
      ],
      "metadata": {
        "id": "nY32pOFaMxT5"
      }
    },
    {
      "cell_type": "markdown",
      "source": [
        "## Visualising the data\n",
        "\n",
        "---\n",
        "\n"
      ],
      "metadata": {
        "id": "-EOtywRZOMRg"
      }
    },
    {
      "cell_type": "code",
      "source": [
        "churn = df['Attrition_Flag'].value_counts()\n",
        "plt.pie(churn,labels = churn.keys(), autopct='%1.1f%%')\n",
        "plt.show()"
      ],
      "metadata": {
        "colab": {
          "base_uri": "https://localhost:8080/",
          "height": 406
        },
        "id": "ADkHu9pelWSv",
        "outputId": "9acffaf3-2a09-4b0a-9265-6b993dbc4fa4"
      },
      "execution_count": null,
      "outputs": [
        {
          "output_type": "display_data",
          "data": {
            "text/plain": [
              "<Figure size 640x480 with 1 Axes>"
            ],
            "image/png": "[encoded data removed]"
          },
          "metadata": {}
        }
      ]
    },
    {
      "cell_type": "markdown",
      "source": [
        "The Attrition Flag data is imbalanced, which means the predictions might make false positive/negative."
      ],
      "metadata": {
        "id": "AQjRH1Kx_gUe"
      }
    },
    {
      "cell_type": "markdown",
      "source": [
        "Now let's focus on Customer demographics. We can identify the following demografic factors available within the dataset:\n",
        "\n",
        "- Age\n",
        "- Gender\n",
        "- Income\n",
        "- Marital Status\n",
        "- Education"
      ],
      "metadata": {
        "id": "FRRI8WAhB1mk"
      }
    },
    {
      "cell_type": "code",
      "source": [
        "## plotting customers distribution by demografics\n",
        "pd.crosstab(df['Attrition_Flag'],df['Gender']).plot(kind = 'bar')\n",
        "pd.crosstab(df['Attrition_Flag'],df['Education_Level']).plot(kind = 'bar')\n",
        "pd.crosstab(df['Attrition_Flag'],df['Income_Category']).plot(kind = 'bar')\n",
        "pd.crosstab(df['Attrition_Flag'],df['Marital_Status']).plot(kind = 'bar')\n"
      ],
      "metadata": {
        "id": "LZdlYyR3OKQB",
        "colab": {
          "base_uri": "https://localhost:8080/",
          "height": 1000
        },
        "outputId": "4a1bbc96-7608-460e-8af9-2a863a4bf898"
      },
      "execution_count": null,
      "outputs": [
        {
          "output_type": "execute_result",
          "data": {
            "text/plain": [
              "<Axes: xlabel='Attrition_Flag'>"
            ]
          },
          "metadata": {},
          "execution_count": 29
        },
        {
          "output_type": "display_data",
          "data": {
            "text/plain": [
              "<Figure size 640x480 with 1 Axes>"
            ],
            "image/png": "[encoded data removed]"
          },
          "metadata": {}
        },
        {
          "output_type": "display_data",
          "data": {
            "text/plain": [
              "<Figure size 640x480 with 1 Axes>"
            ],
            "image/png": "[encoded data removed]"
          },
          "metadata": {}
        },
        {
          "output_type": "display_data",
          "data": {
            "text/plain": [
              "<Figure size 640x480 with 1 Axes>"
            ],
            "image/png": "[encoded data removed]"
          },
          "metadata": {}
        },
        {
          "output_type": "display_data",
          "data": {
            "text/plain": [
              "<Figure size 640x480 with 1 Axes>"
            ],
            "image/png": "[encoded data removed]"
          },
          "metadata": {}
        }
      ]
    },
    {
      "cell_type": "code",
      "source": [
        "age = df[\"Customer_Age\"]\n",
        "plt.boxplot(age)\n",
        "plt.xlabel(\"Customer_Age\")\n",
        "plt.show()"
      ],
      "metadata": {
        "colab": {
          "base_uri": "https://localhost:8080/",
          "height": 449
        },
        "id": "Igafut-lHwN1",
        "outputId": "db0cfa1e-66d6-4d78-dbaf-4325c4bfee2b"
      },
      "execution_count": null,
      "outputs": [
        {
          "output_type": "display_data",
          "data": {
            "text/plain": [
              "<Figure size 640x480 with 1 Axes>"
            ],
            "image/png": "[encoded data removed]"
          },
          "metadata": {}
        }
      ]
    },
    {
      "cell_type": "markdown",
      "source": [
        "The boxplot shows there're two customers in the dataset whose age stands beyond the age range - 71 and 73 years.  "
      ],
      "metadata": {
        "id": "YCx9mEzHk4vX"
      }
    },
    {
      "cell_type": "markdown",
      "source": [
        "Customer demographic observations:\n",
        "- Married females customers with graduate degree and income lesser than 40k make up the majority of the attrited customers. Followed by single female customers with annual salary 40k-60k."
      ],
      "metadata": {
        "id": "oW7VY6RmJkAe"
      }
    },
    {
      "cell_type": "markdown",
      "source": [
        "###Correlation within the dataset\n",
        "\n",
        "Let's calculate correlation coefficients (r) across numeric data. The closer r is to -1 or 1, the stronger the correlation between the variables."
      ],
      "metadata": {
        "id": "JrA-TN6cLxCi"
      }
    },
    {
      "cell_type": "code",
      "source": [
        "df.corr(numeric_only = True)"
      ],
      "metadata": {
        "colab": {
          "base_uri": "https://localhost:8080/",
          "height": 539
        },
        "id": "Sq6b3aUoLlE7",
        "outputId": "8d3c5d0c-92e2-4e44-df9d-48874b52d0ce"
      },
      "execution_count": null,
      "outputs": [
        {
          "output_type": "execute_result",
          "data": {
            "text/plain": [
              "                          CLIENTNUM  Customer_Age  Dependent_count  \\\n",
              "CLIENTNUM                  1.000000      0.007613         0.006772   \n",
              "Customer_Age               0.007613      1.000000        -0.122254   \n",
              "Dependent_count            0.006772     -0.122254         1.000000   \n",
              "Months_on_book             0.134588      0.788912        -0.103062   \n",
              "Total_Relationship_Count   0.006907     -0.010931        -0.039076   \n",
              "Months_Inactive_12_mon     0.005729      0.054361        -0.010768   \n",
              "Contacts_Count_12_mon      0.005694     -0.018452        -0.040505   \n",
              "Credit_Limit               0.005708      0.002476         0.068065   \n",
              "Total_Revolving_Bal        0.000825      0.014780        -0.002688   \n",
              "Avg_Open_To_Buy            0.005633      0.001151         0.068291   \n",
              "Total_Amt_Chng_Q4_Q1       0.017369     -0.062042        -0.035439   \n",
              "Total_Trans_Amt           -0.019692     -0.046446         0.025046   \n",
              "Total_Trans_Ct            -0.002961     -0.067097         0.049912   \n",
              "Total_Ct_Chng_Q4_Q1        0.007696     -0.012143         0.011087   \n",
              "Avg_Utilization_Ratio      0.000266      0.007114        -0.037135   \n",
              "\n",
              "                          Months_on_book  Total_Relationship_Count  \\\n",
              "CLIENTNUM                       0.134588                  0.006907   \n",
              "Customer_Age                    0.788912                 -0.010931   \n",
              "Dependent_count                -0.103062                 -0.039076   \n",
              "Months_on_book                  1.000000                 -0.009203   \n",
              "Total_Relationship_Count       -0.009203                  1.000000   \n",
              "Months_Inactive_12_mon          0.074164                 -0.003675   \n",
              "Contacts_Count_12_mon          -0.010774                  0.055203   \n",
              "Credit_Limit                    0.007507                 -0.071386   \n",
              "Total_Revolving_Bal             0.008623                  0.013726   \n",
              "Avg_Open_To_Buy                 0.006732                 -0.072601   \n",
              "Total_Amt_Chng_Q4_Q1           -0.048959                  0.050119   \n",
              "Total_Trans_Amt                -0.038591                 -0.347229   \n",
              "Total_Trans_Ct                 -0.049819                 -0.241891   \n",
              "Total_Ct_Chng_Q4_Q1            -0.014072                  0.040831   \n",
              "Avg_Utilization_Ratio          -0.007541                  0.067663   \n",
              "\n",
              "                          Months_Inactive_12_mon  Contacts_Count_12_mon  \\\n",
              "CLIENTNUM                               0.005729               0.005694   \n",
              "Customer_Age                            0.054361              -0.018452   \n",
              "Dependent_count                        -0.010768              -0.040505   \n",
              "Months_on_book                          0.074164              -0.010774   \n",
              "Total_Relationship_Count               -0.003675               0.055203   \n",
              "Months_Inactive_12_mon                  1.000000               0.029493   \n",
              "Contacts_Count_12_mon                   0.029493               1.000000   \n",
              "Credit_Limit                           -0.020394               0.020817   \n",
              "Total_Revolving_Bal                    -0.042210              -0.053913   \n",
              "Avg_Open_To_Buy                        -0.016605               0.025646   \n",
              "Total_Amt_Chng_Q4_Q1                   -0.032247              -0.024445   \n",
              "Total_Trans_Amt                        -0.036982              -0.112774   \n",
              "Total_Trans_Ct                         -0.042787              -0.152213   \n",
              "Total_Ct_Chng_Q4_Q1                    -0.038989              -0.094997   \n",
              "Avg_Utilization_Ratio                  -0.007503              -0.055471   \n",
              "\n",
              "                          Credit_Limit  Total_Revolving_Bal  Avg_Open_To_Buy  \\\n",
              "CLIENTNUM                     0.005708             0.000825         0.005633   \n",
              "Customer_Age                  0.002476             0.014780         0.001151   \n",
              "Dependent_count               0.068065            -0.002688         0.068291   \n",
              "Months_on_book                0.007507             0.008623         0.006732   \n",
              "Total_Relationship_Count     -0.071386             0.013726        -0.072601   \n",
              "Months_Inactive_12_mon       -0.020394            -0.042210        -0.016605   \n",
              "Contacts_Count_12_mon         0.020817            -0.053913         0.025646   \n",
              "Credit_Limit                  1.000000             0.042493         0.995981   \n",
              "Total_Revolving_Bal           0.042493             1.000000        -0.047167   \n",
              "Avg_Open_To_Buy               0.995981            -0.047167         1.000000   \n",
              "Total_Amt_Chng_Q4_Q1          0.012813             0.058174         0.007595   \n",
              "Total_Trans_Amt               0.171730             0.064370         0.165923   \n",
              "Total_Trans_Ct                0.075927             0.056060         0.070885   \n",
              "Total_Ct_Chng_Q4_Q1          -0.002020             0.089861        -0.010076   \n",
              "Avg_Utilization_Ratio        -0.482965             0.624022        -0.538808   \n",
              "\n",
              "                          Total_Amt_Chng_Q4_Q1  Total_Trans_Amt  \\\n",
              "CLIENTNUM                             0.017369        -0.019692   \n",
              "Customer_Age                         -0.062042        -0.046446   \n",
              "Dependent_count                      -0.035439         0.025046   \n",
              "Months_on_book                       -0.048959        -0.038591   \n",
              "Total_Relationship_Count              0.050119        -0.347229   \n",
              "Months_Inactive_12_mon               -0.032247        -0.036982   \n",
              "Contacts_Count_12_mon                -0.024445        -0.112774   \n",
              "Credit_Limit                          0.012813         0.171730   \n",
              "Total_Revolving_Bal                   0.058174         0.064370   \n",
              "Avg_Open_To_Buy                       0.007595         0.165923   \n",
              "Total_Amt_Chng_Q4_Q1                  1.000000         0.039678   \n",
              "Total_Trans_Amt                       0.039678         1.000000   \n",
              "Total_Trans_Ct                        0.005469         0.807192   \n",
              "Total_Ct_Chng_Q4_Q1                   0.384189         0.085581   \n",
              "Avg_Utilization_Ratio                 0.035235        -0.083034   \n",
              "\n",
              "                          Total_Trans_Ct  Total_Ct_Chng_Q4_Q1  \\\n",
              "CLIENTNUM                      -0.002961             0.007696   \n",
              "Customer_Age                   -0.067097            -0.012143   \n",
              "Dependent_count                 0.049912             0.011087   \n",
              "Months_on_book                 -0.049819            -0.014072   \n",
              "Total_Relationship_Count       -0.241891             0.040831   \n",
              "Months_Inactive_12_mon         -0.042787            -0.038989   \n",
              "Contacts_Count_12_mon          -0.152213            -0.094997   \n",
              "Credit_Limit                    0.075927            -0.002020   \n",
              "Total_Revolving_Bal             0.056060             0.089861   \n",
              "Avg_Open_To_Buy                 0.070885            -0.010076   \n",
              "Total_Amt_Chng_Q4_Q1            0.005469             0.384189   \n",
              "Total_Trans_Amt                 0.807192             0.085581   \n",
              "Total_Trans_Ct                  1.000000             0.112324   \n",
              "Total_Ct_Chng_Q4_Q1             0.112324             1.000000   \n",
              "Avg_Utilization_Ratio           0.002838             0.074143   \n",
              "\n",
              "                          Avg_Utilization_Ratio  \n",
              "CLIENTNUM                              0.000266  \n",
              "Customer_Age                           0.007114  \n",
              "Dependent_count                       -0.037135  \n",
              "Months_on_book                        -0.007541  \n",
              "Total_Relationship_Count               0.067663  \n",
              "Months_Inactive_12_mon                -0.007503  \n",
              "Contacts_Count_12_mon                 -0.055471  \n",
              "Credit_Limit                          -0.482965  \n",
              "Total_Revolving_Bal                    0.624022  \n",
              "Avg_Open_To_Buy                       -0.538808  \n",
              "Total_Amt_Chng_Q4_Q1                   0.035235  \n",
              "Total_Trans_Amt                       -0.083034  \n",
              "Total_Trans_Ct                         0.002838  \n",
              "Total_Ct_Chng_Q4_Q1                    0.074143  \n",
              "Avg_Utilization_Ratio                  1.000000  "
            ],
            "text/html": [
              "\n",
              "  <div id=\"df-a6e9932a-5cc8-4cd4-ad2d-758fe35cdc70\" class=\"colab-df-container\">\n",
              "    <div>\n",
              "<style scoped>\n",
              "    .dataframe tbody tr th:only-of-type {\n",
              "        vertical-align: middle;\n",
              "    }\n",
              "\n",
              "    .dataframe tbody tr th {\n",
              "        vertical-align: top;\n",
              "    }\n",
              "\n",
              "    .dataframe thead th {\n",
              "        text-align: right;\n",
              "    }\n",
              "</style>\n",
              "<table border=\"1\" class=\"dataframe\">\n",
              "  <thead>\n",
              "    <tr style=\"text-align: right;\">\n",
              "      <th></th>\n",
              "      <th>CLIENTNUM</th>\n",
              "      <th>Customer_Age</th>\n",
              "      <th>Dependent_count</th>\n",
              "      <th>Months_on_book</th>\n",
              "      <th>Total_Relationship_Count</th>\n",
              "      <th>Months_Inactive_12_mon</th>\n",
              "      <th>Contacts_Count_12_mon</th>\n",
              "      <th>Credit_Limit</th>\n",
              "      <th>Total_Revolving_Bal</th>\n",
              "      <th>Avg_Open_To_Buy</th>\n",
              "      <th>Total_Amt_Chng_Q4_Q1</th>\n",
              "      <th>Total_Trans_Amt</th>\n",
              "      <th>Total_Trans_Ct</th>\n",
              "      <th>Total_Ct_Chng_Q4_Q1</th>\n",
              "      <th>Avg_Utilization_Ratio</th>\n",
              "    </tr>\n",
              "  </thead>\n",
              "  <tbody>\n",
              "    <tr>\n",
              "      <th>CLIENTNUM</th>\n",
              "      <td>1.000000</td>\n",
              "      <td>0.007613</td>\n",
              "      <td>0.006772</td>\n",
              "      <td>0.134588</td>\n",
              "      <td>0.006907</td>\n",
              "      <td>0.005729</td>\n",
              "      <td>0.005694</td>\n",
              "      <td>0.005708</td>\n",
              "      <td>0.000825</td>\n",
              "      <td>0.005633</td>\n",
              "      <td>0.017369</td>\n",
              "      <td>-0.019692</td>\n",
              "      <td>-0.002961</td>\n",
              "      <td>0.007696</td>\n",
              "      <td>0.000266</td>\n",
              "    </tr>\n",
              "    <tr>\n",
              "      <th>Customer_Age</th>\n",
              "      <td>0.007613</td>\n",
              "      <td>1.000000</td>\n",
              "      <td>-0.122254</td>\n",
              "      <td>0.788912</td>\n",
              "      <td>-0.010931</td>\n",
              "      <td>0.054361</td>\n",
              "      <td>-0.018452</td>\n",
              "      <td>0.002476</td>\n",
              "      <td>0.014780</td>\n",
              "      <td>0.001151</td>\n",
              "      <td>-0.062042</td>\n",
              "      <td>-0.046446</td>\n",
              "      <td>-0.067097</td>\n",
              "      <td>-0.012143</td>\n",
              "      <td>0.007114</td>\n",
              "    </tr>\n",
              "    <tr>\n",
              "      <th>Dependent_count</th>\n",
              "      <td>0.006772</td>\n",
              "      <td>-0.122254</td>\n",
              "      <td>1.000000</td>\n",
              "      <td>-0.103062</td>\n",
              "      <td>-0.039076</td>\n",
              "      <td>-0.010768</td>\n",
              "      <td>-0.040505</td>\n",
              "      <td>0.068065</td>\n",
              "      <td>-0.002688</td>\n",
              "      <td>0.068291</td>\n",
              "      <td>-0.035439</td>\n",
              "      <td>0.025046</td>\n",
              "      <td>0.049912</td>\n",
              "      <td>0.011087</td>\n",
              "      <td>-0.037135</td>\n",
              "    </tr>\n",
              "    <tr>\n",
              "      <th>Months_on_book</th>\n",
              "      <td>0.134588</td>\n",
              "      <td>0.788912</td>\n",
              "      <td>-0.103062</td>\n",
              "      <td>1.000000</td>\n",
              "      <td>-0.009203</td>\n",
              "      <td>0.074164</td>\n",
              "      <td>-0.010774</td>\n",
              "      <td>0.007507</td>\n",
              "      <td>0.008623</td>\n",
              "      <td>0.006732</td>\n",
              "      <td>-0.048959</td>\n",
              "      <td>-0.038591</td>\n",
              "      <td>-0.049819</td>\n",
              "      <td>-0.014072</td>\n",
              "      <td>-0.007541</td>\n",
              "    </tr>\n",
              "    <tr>\n",
              "      <th>Total_Relationship_Count</th>\n",
              "      <td>0.006907</td>\n",
              "      <td>-0.010931</td>\n",
              "      <td>-0.039076</td>\n",
              "      <td>-0.009203</td>\n",
              "      <td>1.000000</td>\n",
              "      <td>-0.003675</td>\n",
              "      <td>0.055203</td>\n",
              "      <td>-0.071386</td>\n",
              "      <td>0.013726</td>\n",
              "      <td>-0.072601</td>\n",
              "      <td>0.050119</td>\n",
              "      <td>-0.347229</td>\n",
              "      <td>-0.241891</td>\n",
              "      <td>0.040831</td>\n",
              "      <td>0.067663</td>\n",
              "    </tr>\n",
              "    <tr>\n",
              "      <th>Months_Inactive_12_mon</th>\n",
              "      <td>0.005729</td>\n",
              "      <td>0.054361</td>\n",
              "      <td>-0.010768</td>\n",
              "      <td>0.074164</td>\n",
              "      <td>-0.003675</td>\n",
              "      <td>1.000000</td>\n",
              "      <td>0.029493</td>\n",
              "      <td>-0.020394</td>\n",
              "      <td>-0.042210</td>\n",
              "      <td>-0.016605</td>\n",
              "      <td>-0.032247</td>\n",
              "      <td>-0.036982</td>\n",
              "      <td>-0.042787</td>\n",
              "      <td>-0.038989</td>\n",
              "      <td>-0.007503</td>\n",
              "    </tr>\n",
              "    <tr>\n",
              "      <th>Contacts_Count_12_mon</th>\n",
              "      <td>0.005694</td>\n",
              "      <td>-0.018452</td>\n",
              "      <td>-0.040505</td>\n",
              "      <td>-0.010774</td>\n",
              "      <td>0.055203</td>\n",
              "      <td>0.029493</td>\n",
              "      <td>1.000000</td>\n",
              "      <td>0.020817</td>\n",
              "      <td>-0.053913</td>\n",
              "      <td>0.025646</td>\n",
              "      <td>-0.024445</td>\n",
              "      <td>-0.112774</td>\n",
              "      <td>-0.152213</td>\n",
              "      <td>-0.094997</td>\n",
              "      <td>-0.055471</td>\n",
              "    </tr>\n",
              "    <tr>\n",
              "      <th>Credit_Limit</th>\n",
              "      <td>0.005708</td>\n",
              "      <td>0.002476</td>\n",
              "      <td>0.068065</td>\n",
              "      <td>0.007507</td>\n",
              "      <td>-0.071386</td>\n",
              "      <td>-0.020394</td>\n",
              "      <td>0.020817</td>\n",
              "      <td>1.000000</td>\n",
              "      <td>0.042493</td>\n",
              "      <td>0.995981</td>\n",
              "      <td>0.012813</td>\n",
              "      <td>0.171730</td>\n",
              "      <td>0.075927</td>\n",
              "      <td>-0.002020</td>\n",
              "      <td>-0.482965</td>\n",
              "    </tr>\n",
              "    <tr>\n",
              "      <th>Total_Revolving_Bal</th>\n",
              "      <td>0.000825</td>\n",
              "      <td>0.014780</td>\n",
              "      <td>-0.002688</td>\n",
              "      <td>0.008623</td>\n",
              "      <td>0.013726</td>\n",
              "      <td>-0.042210</td>\n",
              "      <td>-0.053913</td>\n",
              "      <td>0.042493</td>\n",
              "      <td>1.000000</td>\n",
              "      <td>-0.047167</td>\n",
              "      <td>0.058174</td>\n",
              "      <td>0.064370</td>\n",
              "      <td>0.056060</td>\n",
              "      <td>0.089861</td>\n",
              "      <td>0.624022</td>\n",
              "    </tr>\n",
              "    <tr>\n",
              "      <th>Avg_Open_To_Buy</th>\n",
              "      <td>0.005633</td>\n",
              "      <td>0.001151</td>\n",
              "      <td>0.068291</td>\n",
              "      <td>0.006732</td>\n",
              "      <td>-0.072601</td>\n",
              "      <td>-0.016605</td>\n",
              "      <td>0.025646</td>\n",
              "      <td>0.995981</td>\n",
              "      <td>-0.047167</td>\n",
              "      <td>1.000000</td>\n",
              "      <td>0.007595</td>\n",
              "      <td>0.165923</td>\n",
              "      <td>0.070885</td>\n",
              "      <td>-0.010076</td>\n",
              "      <td>-0.538808</td>\n",
              "    </tr>\n",
              "    <tr>\n",
              "      <th>Total_Amt_Chng_Q4_Q1</th>\n",
              "      <td>0.017369</td>\n",
              "      <td>-0.062042</td>\n",
              "      <td>-0.035439</td>\n",
              "      <td>-0.048959</td>\n",
              "      <td>0.050119</td>\n",
              "      <td>-0.032247</td>\n",
              "      <td>-0.024445</td>\n",
              "      <td>0.012813</td>\n",
              "      <td>0.058174</td>\n",
              "      <td>0.007595</td>\n",
              "      <td>1.000000</td>\n",
              "      <td>0.039678</td>\n",
              "      <td>0.005469</td>\n",
              "      <td>0.384189</td>\n",
              "      <td>0.035235</td>\n",
              "    </tr>\n",
              "    <tr>\n",
              "      <th>Total_Trans_Amt</th>\n",
              "      <td>-0.019692</td>\n",
              "      <td>-0.046446</td>\n",
              "      <td>0.025046</td>\n",
              "      <td>-0.038591</td>\n",
              "      <td>-0.347229</td>\n",
              "      <td>-0.036982</td>\n",
              "      <td>-0.112774</td>\n",
              "      <td>0.171730</td>\n",
              "      <td>0.064370</td>\n",
              "      <td>0.165923</td>\n",
              "      <td>0.039678</td>\n",
              "      <td>1.000000</td>\n",
              "      <td>0.807192</td>\n",
              "      <td>0.085581</td>\n",
              "      <td>-0.083034</td>\n",
              "    </tr>\n",
              "    <tr>\n",
              "      <th>Total_Trans_Ct</th>\n",
              "      <td>-0.002961</td>\n",
              "      <td>-0.067097</td>\n",
              "      <td>0.049912</td>\n",
              "      <td>-0.049819</td>\n",
              "      <td>-0.241891</td>\n",
              "      <td>-0.042787</td>\n",
              "      <td>-0.152213</td>\n",
              "      <td>0.075927</td>\n",
              "      <td>0.056060</td>\n",
              "      <td>0.070885</td>\n",
              "      <td>0.005469</td>\n",
              "      <td>0.807192</td>\n",
              "      <td>1.000000</td>\n",
              "      <td>0.112324</td>\n",
              "      <td>0.002838</td>\n",
              "    </tr>\n",
              "    <tr>\n",
              "      <th>Total_Ct_Chng_Q4_Q1</th>\n",
              "      <td>0.007696</td>\n",
              "      <td>-0.012143</td>\n",
              "      <td>0.011087</td>\n",
              "      <td>-0.014072</td>\n",
              "      <td>0.040831</td>\n",
              "      <td>-0.038989</td>\n",
              "      <td>-0.094997</td>\n",
              "      <td>-0.002020</td>\n",
              "      <td>0.089861</td>\n",
              "      <td>-0.010076</td>\n",
              "      <td>0.384189</td>\n",
              "      <td>0.085581</td>\n",
              "      <td>0.112324</td>\n",
              "      <td>1.000000</td>\n",
              "      <td>0.074143</td>\n",
              "    </tr>\n",
              "    <tr>\n",
              "      <th>Avg_Utilization_Ratio</th>\n",
              "      <td>0.000266</td>\n",
              "      <td>0.007114</td>\n",
              "      <td>-0.037135</td>\n",
              "      <td>-0.007541</td>\n",
              "      <td>0.067663</td>\n",
              "      <td>-0.007503</td>\n",
              "      <td>-0.055471</td>\n",
              "      <td>-0.482965</td>\n",
              "      <td>0.624022</td>\n",
              "      <td>-0.538808</td>\n",
              "      <td>0.035235</td>\n",
              "      <td>-0.083034</td>\n",
              "      <td>0.002838</td>\n",
              "      <td>0.074143</td>\n",
              "      <td>1.000000</td>\n",
              "    </tr>\n",
              "  </tbody>\n",
              "</table>\n",
              "</div>\n",
              "    <div class=\"colab-df-buttons\">\n",
              "\n",
              "  <div class=\"colab-df-container\">\n",
              "    <button class=\"colab-df-convert\" onclick=\"convertToInteractive('df-a6e9932a-5cc8-4cd4-ad2d-758fe35cdc70')\"\n",
              "            title=\"Convert this dataframe to an interactive table.\"\n",
              "            style=\"display:none;\">\n",
              "\n",
              "  <svg xmlns=\"http://www.w3.org/2000/svg\" height=\"24px\" viewBox=\"0 -960 960 960\">\n",
              "    <path d=\"M120-120v-720h720v720H120Zm60-500h600v-160H180v160Zm220 220h160v-160H400v160Zm0 220h160v-160H400v160ZM180-400h160v-160H180v160Zm440 0h160v-160H620v160ZM180-180h160v-160H180v160Zm440 0h160v-160H620v160Z\"/>\n",
              "  </svg>\n",
              "    </button>\n",
              "\n",
              "  <style>\n",
              "    .colab-df-container {\n",
              "      display:flex;\n",
              "      gap: 12px;\n",
              "    }\n",
              "\n",
              "    .colab-df-convert {\n",
              "      background-color: #E8F0FE;\n",
              "      border: none;\n",
              "      border-radius: 50%;\n",
              "      cursor: pointer;\n",
              "      display: none;\n",
              "      fill: #1967D2;\n",
              "      height: 32px;\n",
              "      padding: 0 0 0 0;\n",
              "      width: 32px;\n",
              "    }\n",
              "\n",
              "    .colab-df-convert:hover {\n",
              "      background-color: #E2EBFA;\n",
              "      box-shadow: 0px 1px 2px rgba(60, 64, 67, 0.3), 0px 1px 3px 1px rgba(60, 64, 67, 0.15);\n",
              "      fill: #174EA6;\n",
              "    }\n",
              "\n",
              "    .colab-df-buttons div {\n",
              "      margin-bottom: 4px;\n",
              "    }\n",
              "\n",
              "    [theme=dark] .colab-df-convert {\n",
              "      background-color: #3B4455;\n",
              "      fill: #D2E3FC;\n",
              "    }\n",
              "\n",
              "    [theme=dark] .colab-df-convert:hover {\n",
              "      background-color: #434B5C;\n",
              "      box-shadow: 0px 1px 3px 1px rgba(0, 0, 0, 0.15);\n",
              "      filter: drop-shadow(0px 1px 2px rgba(0, 0, 0, 0.3));\n",
              "      fill: #FFFFFF;\n",
              "    }\n",
              "  </style>\n",
              "\n",
              "    <script>\n",
              "      const buttonEl =\n",
              "        document.querySelector('#df-a6e9932a-5cc8-4cd4-ad2d-758fe35cdc70 button.colab-df-convert');\n",
              "      buttonEl.style.display =\n",
              "        google.colab.kernel.accessAllowed ? 'block' : 'none';\n",
              "\n",
              "      async function convertToInteractive(key) {\n",
              "        const element = document.querySelector('#df-a6e9932a-5cc8-4cd4-ad2d-758fe35cdc70');\n",
              "        const dataTable =\n",
              "          await google.colab.kernel.invokeFunction('convertToInteractive',\n",
              "                                                    [key], {});\n",
              "        if (!dataTable) return;\n",
              "\n",
              "        const docLinkHtml = 'Like what you see? Visit the ' +\n",
              "          '<a target=\"_blank\" href=https://colab.research.google.com/notebooks/data_table.ipynb>data table notebook</a>'\n",
              "          + ' to learn more about interactive tables.';\n",
              "        element.innerHTML = '';\n",
              "        dataTable['output_type'] = 'display_data';\n",
              "        await google.colab.output.renderOutput(dataTable, element);\n",
              "        const docLink = document.createElement('div');\n",
              "        docLink.innerHTML = docLinkHtml;\n",
              "        element.appendChild(docLink);\n",
              "      }\n",
              "    </script>\n",
              "  </div>\n",
              "\n",
              "\n",
              "<div id=\"df-d22bc71c-8234-44d0-9754-73d84360ca8c\">\n",
              "  <button class=\"colab-df-quickchart\" onclick=\"quickchart('df-d22bc71c-8234-44d0-9754-73d84360ca8c')\"\n",
              "            title=\"Suggest charts.\"\n",
              "            style=\"display:none;\">\n",
              "\n",
              "<svg xmlns=\"http://www.w3.org/2000/svg\" height=\"24px\"viewBox=\"0 0 24 24\"\n",
              "     width=\"24px\">\n",
              "    <g>\n",
              "        <path d=\"M19 3H5c-1.1 0-2 .9-2 2v14c0 1.1.9 2 2 2h14c1.1 0 2-.9 2-2V5c0-1.1-.9-2-2-2zM9 17H7v-7h2v7zm4 0h-2V7h2v10zm4 0h-2v-4h2v4z\"/>\n",
              "    </g>\n",
              "</svg>\n",
              "  </button>\n",
              "\n",
              "<style>\n",
              "  .colab-df-quickchart {\n",
              "      --bg-color: #E8F0FE;\n",
              "      --fill-color: #1967D2;\n",
              "      --hover-bg-color: #E2EBFA;\n",
              "      --hover-fill-color: #174EA6;\n",
              "      --disabled-fill-color: #AAA;\n",
              "      --disabled-bg-color: #DDD;\n",
              "  }\n",
              "\n",
              "  [theme=dark] .colab-df-quickchart {\n",
              "      --bg-color: #3B4455;\n",
              "      --fill-color: #D2E3FC;\n",
              "      --hover-bg-color: #434B5C;\n",
              "      --hover-fill-color: #FFFFFF;\n",
              "      --disabled-bg-color: #3B4455;\n",
              "      --disabled-fill-color: #666;\n",
              "  }\n",
              "\n",
              "  .colab-df-quickchart {\n",
              "    background-color: var(--bg-color);\n",
              "    border: none;\n",
              "    border-radius: 50%;\n",
              "    cursor: pointer;\n",
              "    display: none;\n",
              "    fill: var(--fill-color);\n",
              "    height: 32px;\n",
              "    padding: 0;\n",
              "    width: 32px;\n",
              "  }\n",
              "\n",
              "  .colab-df-quickchart:hover {\n",
              "    background-color: var(--hover-bg-color);\n",
              "    box-shadow: 0 1px 2px rgba(60, 64, 67, 0.3), 0 1px 3px 1px rgba(60, 64, 67, 0.15);\n",
              "    fill: var(--button-hover-fill-color);\n",
              "  }\n",
              "\n",
              "  .colab-df-quickchart-complete:disabled,\n",
              "  .colab-df-quickchart-complete:disabled:hover {\n",
              "    background-color: var(--disabled-bg-color);\n",
              "    fill: var(--disabled-fill-color);\n",
              "    box-shadow: none;\n",
              "  }\n",
              "\n",
              "  .colab-df-spinner {\n",
              "    border: 2px solid var(--fill-color);\n",
              "    border-color: transparent;\n",
              "    border-bottom-color: var(--fill-color);\n",
              "    animation:\n",
              "      spin 1s steps(1) infinite;\n",
              "  }\n",
              "\n",
              "  @keyframes spin {\n",
              "    0% {\n",
              "      border-color: transparent;\n",
              "      border-bottom-color: var(--fill-color);\n",
              "      border-left-color: var(--fill-color);\n",
              "    }\n",
              "    20% {\n",
              "      border-color: transparent;\n",
              "      border-left-color: var(--fill-color);\n",
              "      border-top-color: var(--fill-color);\n",
              "    }\n",
              "    30% {\n",
              "      border-color: transparent;\n",
              "      border-left-color: var(--fill-color);\n",
              "      border-top-color: var(--fill-color);\n",
              "      border-right-color: var(--fill-color);\n",
              "    }\n",
              "    40% {\n",
              "      border-color: transparent;\n",
              "      border-right-color: var(--fill-color);\n",
              "      border-top-color: var(--fill-color);\n",
              "    }\n",
              "    60% {\n",
              "      border-color: transparent;\n",
              "      border-right-color: var(--fill-color);\n",
              "    }\n",
              "    80% {\n",
              "      border-color: transparent;\n",
              "      border-right-color: var(--fill-color);\n",
              "      border-bottom-color: var(--fill-color);\n",
              "    }\n",
              "    90% {\n",
              "      border-color: transparent;\n",
              "      border-bottom-color: var(--fill-color);\n",
              "    }\n",
              "  }\n",
              "</style>\n",
              "\n",
              "  <script>\n",
              "    async function quickchart(key) {\n",
              "      const quickchartButtonEl =\n",
              "        document.querySelector('#' + key + ' button');\n",
              "      quickchartButtonEl.disabled = true;  // To prevent multiple clicks.\n",
              "      quickchartButtonEl.classList.add('colab-df-spinner');\n",
              "      try {\n",
              "        const charts = await google.colab.kernel.invokeFunction(\n",
              "            'suggestCharts', [key], {});\n",
              "      } catch (error) {\n",
              "        console.error('Error during call to suggestCharts:', error);\n",
              "      }\n",
              "      quickchartButtonEl.classList.remove('colab-df-spinner');\n",
              "      quickchartButtonEl.classList.add('colab-df-quickchart-complete');\n",
              "    }\n",
              "    (() => {\n",
              "      let quickchartButtonEl =\n",
              "        document.querySelector('#df-d22bc71c-8234-44d0-9754-73d84360ca8c button');\n",
              "      quickchartButtonEl.style.display =\n",
              "        google.colab.kernel.accessAllowed ? 'block' : 'none';\n",
              "    })();\n",
              "  </script>\n",
              "</div>\n",
              "    </div>\n",
              "  </div>\n"
            ]
          },
          "metadata": {},
          "execution_count": 102
        }
      ]
    },
    {
      "cell_type": "markdown",
      "source": [
        "The below are some correlations we can observe:\n",
        "- strong positive: Customer_Age & Months_on_book (r = 0.79), Avg_Open_To_Buy& Credit_Limit (r = 0.995), Total_Trans_Amt& Total_Trans_Ct (r = 0.8)\n",
        "- weak negative: Total_Relationship_Count & Total_Trans_Amt (r = - 0.35)\n",
        "- weak positive: Total_Trans_Amt& Credit_Limit (r= 0.17)\n",
        "\n",
        "Let's plot a regression line between Customers age and Month they're with the bank."
      ],
      "metadata": {
        "id": "hqgyZsj1Mz5S"
      }
    },
    {
      "cell_type": "code",
      "source": [
        "age = df[\"Customer_Age\"]\n",
        "month = df[\"Months_on_book\"]\n",
        "regression = linregress(age,month)\n",
        "print(regression)\n",
        "slope=regression.slope\n",
        "intercept = regression.intercept\n",
        "plt.scatter(age,month)\n",
        "plt.plot(age, slope*age + intercept, color=\"red\")\n",
        "plt.title(\"Correlation between customers age and periods they're with the bank\")\n",
        "plt.show()"
      ],
      "metadata": {
        "colab": {
          "base_uri": "https://localhost:8080/",
          "height": 489
        },
        "id": "cOHeX04fPrGg",
        "outputId": "0aca14f2-c85f-4897-c317-b9702bea1420"
      },
      "execution_count": 5,
      "outputs": [
        {
          "output_type": "stream",
          "name": "stdout",
          "text": [
            "LinregressResult(slope=0.7859210057646278, intercept=-0.48013611211955265, rvalue=0.788912358993052, pvalue=0.0, stderr=0.006083850820980082, intercept_stderr=0.28602883877641516)\n"
          ]
        },
        {
          "output_type": "display_data",
          "data": {
            "text/plain": [
              "<Figure size 640x480 with 1 Axes>"
            ],
            "image/png": "[encoded data removed]"
          },
          "metadata": {}
        }
      ]
    },
    {
      "cell_type": "markdown",
      "source": [
        "Now let's write a function that checks the significance of a regression by calculaing the P-value coefficient and run it for our Cusomers_Age and Months_on_book data to see if their correlation is statistically significant."
      ],
      "metadata": {
        "id": "gMbVdKmYqXmX"
      }
    },
    {
      "cell_type": "code",
      "source": [
        "def check_pvalue(x,y):\n",
        "  regression = linregress(x,y)\n",
        "  if regression.pvalue < 0.5:\n",
        "    print(\"Model is considered to be statistically significant\")\n",
        "  else:\n",
        "    print(\"Model is not considered to be statistically significant\")\n",
        "\n",
        "check_pvalue(age, month)"
      ],
      "metadata": {
        "colab": {
          "base_uri": "https://localhost:8080/"
        },
        "id": "h_m81qe8qDTu",
        "outputId": "37df0015-6089-498f-bce4-566cb9bfa6e8"
      },
      "execution_count": 6,
      "outputs": [
        {
          "output_type": "stream",
          "name": "stdout",
          "text": [
            "Model is considered to be statistically significant\n"
          ]
        }
      ]
    },
    {
      "cell_type": "markdown",
      "source": [
        "# Summary\n",
        "\n",
        "To sum up, the insights gained from this analysis shed light on the bank customers profiles with regards to the customers churn.\n",
        "\n",
        "Among them are the following:\n",
        "\n",
        "- both male and female customers have similar levels of account retention, but the attrition rate is slightly higher among female customers\n",
        "-  the attrited customers dataset falls within the normally distributed age range of 26 to 68\n",
        "- the largest segment of the attrited customers belongs to those with a Graduate level of education when Doctorate holders are the smallest group\n",
        "- a substantial proportion of bank customers (35.2%) have lower incomes (less then 40K)\n",
        "- the majority of the credit limits of the attrited customers were less then $5000\n",
        "- an average customer normally leaves the bank after 36 months\n",
        "- there's a strong positive correlation between a customer's age and the period he/she stays with the bank: the older a customer - the longer he/she sticks to a bank\n",
        "- there have also been observed other correlatios: a strong positive correlation between a customer's willingness to buy a bank service and his/her credit limit, between total amount of transactions and total transactions count, a weak negative correlation between total relationship count (which means the level of customers' engagement with the bank) and total amount of transactions made by customers."
      ],
      "metadata": {
        "id": "vb2p5V0MOWGo"
      }
    }
  ]
}